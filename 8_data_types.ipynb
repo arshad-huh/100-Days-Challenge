{
  "nbformat": 4,
  "nbformat_minor": 0,
  "metadata": {
    "colab": {
      "provenance": [],
      "authorship_tag": "ABX9TyMCSbc0MKH0vOUlf7xMcOhq",
      "include_colab_link": true
    },
    "kernelspec": {
      "name": "python3",
      "display_name": "Python 3"
    },
    "language_info": {
      "name": "python"
    }
  },
  "cells": [
    {
      "cell_type": "markdown",
      "metadata": {
        "id": "view-in-github",
        "colab_type": "text"
      },
      "source": [
        "<a href=\"https://colab.research.google.com/github/arshad-huh/100Days-Python-Practice/blob/main/8_data_types.ipynb\" target=\"_parent\"><img src=\"https://colab.research.google.com/assets/colab-badge.svg\" alt=\"Open In Colab\"/></a>"
      ]
    },
    {
      "cell_type": "markdown",
      "source": [
        "Write a Python function to find the second smallest number in a list of integers."
      ],
      "metadata": {
        "id": "PxY4D8U3-D7L"
      }
    },
    {
      "cell_type": "code",
      "source": [
        "def second_smallest(lst):\n",
        "  sorted_list = sorted(set(lst))\n",
        "  return sorted_list[1]\n",
        "\n",
        "print(second_smallest([2,2,5,5,7,8,3,5]))"
      ],
      "metadata": {
        "colab": {
          "base_uri": "https://localhost:8080/"
        },
        "id": "ubh0snp4-Dl7",
        "outputId": "372fa9b1-b716-4276-92e4-99e30843b8c6"
      },
      "execution_count": 1,
      "outputs": [
        {
          "output_type": "stream",
          "name": "stdout",
          "text": [
            "3\n"
          ]
        }
      ]
    },
    {
      "cell_type": "markdown",
      "source": [
        "Write a Python program to reverse a tuple."
      ],
      "metadata": {
        "id": "EXXAmHDf_NCy"
      }
    },
    {
      "cell_type": "code",
      "execution_count": 2,
      "metadata": {
        "colab": {
          "base_uri": "https://localhost:8080/"
        },
        "id": "H3LNk1nu8z3-",
        "outputId": "39262fbd-0b84-4e6c-fde7-eaab2c808ce2"
      },
      "outputs": [
        {
          "output_type": "stream",
          "name": "stdout",
          "text": [
            "(5, 4, 4, 3, 2, 1)\n"
          ]
        }
      ],
      "source": [
        "def reverse_tuple(t):\n",
        "  return t[::-1]\n",
        "\n",
        "print(reverse_tuple((1,2,3,4,4,5)))"
      ]
    },
    {
      "cell_type": "markdown",
      "source": [
        "Write a Python function to find the key with the maximum value in a dictionary."
      ],
      "metadata": {
        "id": "dKHfML1O_ufk"
      }
    },
    {
      "cell_type": "code",
      "source": [
        "def max_key_value(d):\n",
        "  return max(d, key=d.get)\n",
        "\n",
        "dic = {'a': 10, 'b': 50, 'c': 20}\n",
        "print(max_key_value(dic))"
      ],
      "metadata": {
        "colab": {
          "base_uri": "https://localhost:8080/"
        },
        "id": "5oxudfln_vdD",
        "outputId": "f22f6f88-5697-49b8-f22c-ec4467312a64"
      },
      "execution_count": 3,
      "outputs": [
        {
          "output_type": "stream",
          "name": "stdout",
          "text": [
            "b\n"
          ]
        }
      ]
    },
    {
      "cell_type": "markdown",
      "source": [
        "Write a Python function to check if two strings are anagrams of each other."
      ],
      "metadata": {
        "id": "oe3HdZPdCsuH"
      }
    },
    {
      "cell_type": "code",
      "source": [
        "def are_anagrams(str1, str2):\n",
        "  return sorted(str1) == sorted(str2)\n",
        "\n",
        "s = \"listen\"\n",
        "e = \"silent\"\n",
        "print(are_anagrams(s,e))"
      ],
      "metadata": {
        "colab": {
          "base_uri": "https://localhost:8080/"
        },
        "id": "41BvDyF8CtvS",
        "outputId": "28514d60-e10d-467d-980d-450d488f848f"
      },
      "execution_count": 4,
      "outputs": [
        {
          "output_type": "stream",
          "name": "stdout",
          "text": [
            "True\n"
          ]
        }
      ]
    },
    {
      "cell_type": "markdown",
      "source": [
        "Write a Python program to find the intersection of two frozensets."
      ],
      "metadata": {
        "id": "znVO-k1IDaC7"
      }
    },
    {
      "cell_type": "code",
      "source": [
        "def intersection_fset(f1,f2):\n",
        "  return f1 & f2\n",
        "\n",
        "a = frozenset([1,2,2,2,3,4,5,6,7])\n",
        "b = frozenset([2,3,4])\n",
        "\n",
        "print(intersection_fset(a,b))"
      ],
      "metadata": {
        "colab": {
          "base_uri": "https://localhost:8080/"
        },
        "id": "_Ce1Juj_DYSV",
        "outputId": "4c64ceb9-25a0-4c21-c50e-88b68a9f433f"
      },
      "execution_count": 5,
      "outputs": [
        {
          "output_type": "stream",
          "name": "stdout",
          "text": [
            "frozenset({2, 3, 4})\n"
          ]
        }
      ]
    },
    {
      "cell_type": "markdown",
      "source": [
        " Write a Python function to find the kth smallest element in a list of integers without sorting the list."
      ],
      "metadata": {
        "id": "tIIcr3kfELtw"
      }
    },
    {
      "cell_type": "code",
      "source": [
        "def kth_smallest(lst, k):\n",
        "\n",
        "  if not lst or k < 1 or k > len(lst):\n",
        "    return None\n",
        "  else:\n",
        "    return sorted(set(lst))[k-1]\n",
        "\n",
        "print(kth_smallest([0,9,8,7,6,5,4,3,2,1],6))"
      ],
      "metadata": {
        "id": "CoAmZddwEMgo",
        "outputId": "077e9749-59a6-442d-a9b4-169e705dcc27",
        "colab": {
          "base_uri": "https://localhost:8080/"
        }
      },
      "execution_count": 8,
      "outputs": [
        {
          "output_type": "stream",
          "name": "stdout",
          "text": [
            "5\n"
          ]
        }
      ]
    },
    {
      "cell_type": "markdown",
      "source": [
        " Write a Python program to merge two tuples into a single sorted tuple."
      ],
      "metadata": {
        "id": "BIDmlykDGzxT"
      }
    },
    {
      "cell_type": "code",
      "source": [
        "def merge_sorted_tuple(t1,t2):\n",
        "  t = t1 + t2\n",
        "  return tuple(sorted(t))\n",
        "\n",
        "print(merge_sorted_tuple((1,2,3,4,5),(5,4,3,2,1)))"
      ],
      "metadata": {
        "id": "WT_s32uUGzWp",
        "outputId": "82a9e38b-8f3b-45b1-a0c1-38e11065fce1",
        "colab": {
          "base_uri": "https://localhost:8080/"
        }
      },
      "execution_count": 12,
      "outputs": [
        {
          "output_type": "stream",
          "name": "stdout",
          "text": [
            "(1, 1, 2, 2, 3, 3, 4, 4, 5, 5)\n"
          ]
        }
      ]
    },
    {
      "cell_type": "markdown",
      "source": [
        "Write a Python function to invert a dictionary (swap keys and values)."
      ],
      "metadata": {
        "id": "sC6YAIhYHqA6"
      }
    },
    {
      "cell_type": "code",
      "source": [
        "def invert_dic(d):\n",
        "  d1 = {k:v for v,k in d.items()}\n",
        "  return d1\n",
        "\n",
        "d = {'a': 1, 'b': 2, 'c': 3}\n",
        "print(invert_dic(d))"
      ],
      "metadata": {
        "id": "UP0sv2mgHJ-k",
        "outputId": "3fd82dc3-91af-409c-a09b-6572e643600a",
        "colab": {
          "base_uri": "https://localhost:8080/"
        }
      },
      "execution_count": 14,
      "outputs": [
        {
          "output_type": "stream",
          "name": "stdout",
          "text": [
            "{1: 'a', 2: 'b', 3: 'c'}\n"
          ]
        }
      ]
    },
    {
      "cell_type": "markdown",
      "source": [
        "Write a Python program to check if one set is a subset of another set."
      ],
      "metadata": {
        "id": "wZCA0CxJIQSl"
      }
    },
    {
      "cell_type": "code",
      "source": [
        "def is_subset(set1, set2):\n",
        "    return set1.issubset(set2)\n",
        "\n",
        "set_a = {1, 2, 3}\n",
        "set_b = {1, 2, 3, 4, 5}\n",
        "print(is_subset(set_a, set_b))"
      ],
      "metadata": {
        "id": "2vih6zAJHugA",
        "outputId": "04de3c2d-ef98-476d-eee9-0a7a8477cfc5",
        "colab": {
          "base_uri": "https://localhost:8080/"
        }
      },
      "execution_count": 15,
      "outputs": [
        {
          "output_type": "stream",
          "name": "stdout",
          "text": [
            "True\n"
          ]
        }
      ]
    },
    {
      "cell_type": "code",
      "source": [
        "def is_subset(set1, set2):\n",
        "  if (set2 - set1) == (set2^set1):\n",
        "    return True\n",
        "  else:\n",
        "    return False\n",
        "\n",
        "set_a = {1, 2, 3}\n",
        "set_b = {1, 2, 3, 4, 5}\n",
        "print(is_subset(set_a, set_b))"
      ],
      "metadata": {
        "id": "_R5VDyegJA_9",
        "outputId": "11a5381c-e009-4b77-fdf9-10f6b5355f54",
        "colab": {
          "base_uri": "https://localhost:8080/"
        }
      },
      "execution_count": 18,
      "outputs": [
        {
          "output_type": "stream",
          "name": "stdout",
          "text": [
            "True\n"
          ]
        }
      ]
    }
  ]
}