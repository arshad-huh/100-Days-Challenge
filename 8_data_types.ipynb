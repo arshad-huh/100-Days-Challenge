{
  "nbformat": 4,
  "nbformat_minor": 0,
  "metadata": {
    "colab": {
      "provenance": [],
      "authorship_tag": "ABX9TyPcBd5V/HqdjnlP8SIf39GS",
      "include_colab_link": true
    },
    "kernelspec": {
      "name": "python3",
      "display_name": "Python 3"
    },
    "language_info": {
      "name": "python"
    }
  },
  "cells": [
    {
      "cell_type": "markdown",
      "metadata": {
        "id": "view-in-github",
        "colab_type": "text"
      },
      "source": [
        "<a href=\"https://colab.research.google.com/github/arshad-huh/100Days-Python-Practice/blob/main/8_data_types.ipynb\" target=\"_parent\"><img src=\"https://colab.research.google.com/assets/colab-badge.svg\" alt=\"Open In Colab\"/></a>"
      ]
    },
    {
      "cell_type": "markdown",
      "source": [
        "Write a Python function to find the second smallest number in a list of integers."
      ],
      "metadata": {
        "id": "PxY4D8U3-D7L"
      }
    },
    {
      "cell_type": "code",
      "source": [
        "def second_smallest(lst):\n",
        "  sorted_list = sorted(set(lst))\n",
        "  return sorted_list[1]\n",
        "\n",
        "print(second_smallest([2,2,5,5,7,8,3,5]))"
      ],
      "metadata": {
        "colab": {
          "base_uri": "https://localhost:8080/"
        },
        "id": "ubh0snp4-Dl7",
        "outputId": "059d8a38-d377-4f03-cf86-5b6f2fb364ac"
      },
      "execution_count": 1,
      "outputs": [
        {
          "output_type": "stream",
          "name": "stdout",
          "text": [
            "3\n"
          ]
        }
      ]
    },
    {
      "cell_type": "markdown",
      "source": [
        "Write a Python program to reverse a tuple."
      ],
      "metadata": {
        "id": "EXXAmHDf_NCy"
      }
    },
    {
      "cell_type": "code",
      "execution_count": 3,
      "metadata": {
        "colab": {
          "base_uri": "https://localhost:8080/"
        },
        "id": "H3LNk1nu8z3-",
        "outputId": "58add016-db3a-4e3f-9113-b356bc3c68f8"
      },
      "outputs": [
        {
          "output_type": "stream",
          "name": "stdout",
          "text": [
            "(5, 4, 4, 3, 2, 1)\n"
          ]
        }
      ],
      "source": [
        "def reverse_tuple(t):\n",
        "  return t[::-1]\n",
        "\n",
        "print(reverse_tuple((1,2,3,4,4,5)))"
      ]
    },
    {
      "cell_type": "markdown",
      "source": [
        "Write a Python function to find the key with the maximum value in a dictionary."
      ],
      "metadata": {
        "id": "dKHfML1O_ufk"
      }
    },
    {
      "cell_type": "code",
      "source": [
        "def max_key_value(d):\n",
        "  return max(d, key=d.get)\n",
        "\n",
        "dic = {'a': 10, 'b': 50, 'c': 20}\n",
        "print(max_key_value(dic))"
      ],
      "metadata": {
        "colab": {
          "base_uri": "https://localhost:8080/"
        },
        "id": "5oxudfln_vdD",
        "outputId": "981721bb-6959-45f8-974c-675bb52b1390"
      },
      "execution_count": 9,
      "outputs": [
        {
          "output_type": "stream",
          "name": "stdout",
          "text": [
            "b\n"
          ]
        }
      ]
    },
    {
      "cell_type": "markdown",
      "source": [
        "Write a Python function to check if two strings are anagrams of each other."
      ],
      "metadata": {
        "id": "oe3HdZPdCsuH"
      }
    },
    {
      "cell_type": "code",
      "source": [
        "def are_anagrams(str1, str2):\n",
        "  return sorted(str1) == sorted(str2)\n",
        "\n",
        "s = \"listen\"\n",
        "e = \"silent\"\n",
        "print(are_anagrams(s,e))"
      ],
      "metadata": {
        "colab": {
          "base_uri": "https://localhost:8080/"
        },
        "id": "41BvDyF8CtvS",
        "outputId": "31b02b31-4bcd-46f1-e197-5d67e912fd31"
      },
      "execution_count": 13,
      "outputs": [
        {
          "output_type": "stream",
          "name": "stdout",
          "text": [
            "True\n"
          ]
        }
      ]
    },
    {
      "cell_type": "markdown",
      "source": [
        "Write a Python program to find the intersection of two frozensets."
      ],
      "metadata": {
        "id": "znVO-k1IDaC7"
      }
    },
    {
      "cell_type": "code",
      "source": [
        "def intersection_fset(f1,f2):\n",
        "  return f1 & f2\n",
        "\n",
        "a = frozenset([1,2,2,2,3,4,5,6,7])\n",
        "b = frozenset([2,3,4])\n",
        "\n",
        "print(intersection_fset(a,b))"
      ],
      "metadata": {
        "colab": {
          "base_uri": "https://localhost:8080/"
        },
        "id": "_Ce1Juj_DYSV",
        "outputId": "7a40eb6e-e4d7-4911-d7c0-d908ddbed27f"
      },
      "execution_count": 14,
      "outputs": [
        {
          "output_type": "stream",
          "name": "stdout",
          "text": [
            "frozenset({2, 3, 4})\n"
          ]
        }
      ]
    },
    {
      "cell_type": "markdown",
      "source": [
        " Write a Python function to find the kth smallest element in a list of integers without sorting the list."
      ],
      "metadata": {
        "id": "tIIcr3kfELtw"
      }
    },
    {
      "cell_type": "code",
      "source": [],
      "metadata": {
        "id": "CoAmZddwEMgo"
      },
      "execution_count": null,
      "outputs": []
    }
  ]
}