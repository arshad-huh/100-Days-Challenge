{
  "cells": [
    {
      "cell_type": "markdown",
      "metadata": {
        "colab_type": "text",
        "id": "view-in-github"
      },
      "source": [
        "<a href=\"https://colab.research.google.com/github/arshad-huh/100Days-Python-Practice/blob/main/9_file_handling.ipynb\" target=\"_parent\"><img src=\"https://colab.research.google.com/assets/colab-badge.svg\" alt=\"Open In Colab\"/></a>"
      ]
    },
    {
      "cell_type": "markdown",
      "metadata": {
        "id": "hPS1U6_CsY7S"
      },
      "source": [
        "Write a Python program to read an entire text file."
      ]
    },
    {
      "cell_type": "code",
      "execution_count": 1,
      "metadata": {
        "colab": {
          "base_uri": "https://localhost:8080/"
        },
        "id": "yXi2bAsZqBzR",
        "outputId": "2eb3a90f-3af0-4d6a-c7c5-002a3341ea07"
      },
      "outputs": [
        {
          "name": "stdout",
          "output_type": "stream",
          "text": [
            "[Errno 2] No such file or directory: 'sample1.txt'\n"
          ]
        }
      ],
      "source": [
        "def read_file(filename):\n",
        "  try:\n",
        "    with open(filename, 'r') as file:\n",
        "      content = file.read()\n",
        "      print(content)\n",
        "  except FileNotFoundError as fe:\n",
        "    print(fe)\n",
        "\n",
        "read_file('sample1.txt')"
      ]
    },
    {
      "cell_type": "markdown",
      "metadata": {
        "id": "bexZt59rtYFE"
      },
      "source": [
        "How would you write a Python program to count the number of lines in a text file?"
      ]
    },
    {
      "cell_type": "code",
      "execution_count": 2,
      "metadata": {
        "id": "Daap9ViDtXSM"
      },
      "outputs": [],
      "source": [
        "def count_lines(filename):\n",
        "    try:\n",
        "        with open(filename, 'r') as file:\n",
        "            line_count = sum(1 for line in file)\n",
        "            print(f\"Number of lines in '{filename}': {line_count}\")\n",
        "    except FileNotFoundError:\n",
        "        print(f\"Error: File '{filename}' not found.\")"
      ]
    },
    {
      "cell_type": "markdown",
      "metadata": {
        "id": "NbNU8oVFxQnW"
      },
      "source": [
        "Implement a function in Python to write a list of strings to a text file, each on a new line."
      ]
    },
    {
      "cell_type": "code",
      "execution_count": 3,
      "metadata": {
        "id": "t012EfjaxS6h"
      },
      "outputs": [],
      "source": [
        "def write_lines(filename, lines):\n",
        "    with open(filename, 'w') as file:\n",
        "        for line in lines:\n",
        "            file.write(line + '\\n')\n",
        "\n",
        "\n",
        "lines_to_write = ['Hello', 'World', 'Python']\n",
        "write_lines('output.txt', lines_to_write)"
      ]
    },
    {
      "cell_type": "markdown",
      "metadata": {
        "id": "ACA5kDBLxbga"
      },
      "source": [
        "How can you append a new line to an existing text file in Python?"
      ]
    },
    {
      "cell_type": "code",
      "execution_count": 4,
      "metadata": {
        "id": "usE7mZeTxc21"
      },
      "outputs": [],
      "source": [
        "def append_line(filename, line):\n",
        "    with open(filename, 'a') as file:\n",
        "        file.write(line + '\\n')\n",
        "\n",
        "append_line('output.txt', 'Appending this line.')"
      ]
    },
    {
      "cell_type": "markdown",
      "metadata": {},
      "source": [
        "Create a Python function to read and print only the first N lines of a text file."
      ]
    },
    {
      "cell_type": "code",
      "execution_count": 5,
      "metadata": {},
      "outputs": [
        {
          "name": "stdout",
          "output_type": "stream",
          "text": [
            "Error: File 'sample.txt' not found.\n"
          ]
        }
      ],
      "source": [
        "def read_first_n_lines(filename, n):\n",
        "    try:\n",
        "        with open(filename, 'r') as file:\n",
        "            for _ in range(n):\n",
        "                line = file.readline()\n",
        "                if not line:\n",
        "                    break\n",
        "                print(line.strip())\n",
        "    except FileNotFoundError:\n",
        "        print(f\"Error: File '{filename}' not found.\")\n",
        "\n",
        "read_first_n_lines('sample.txt', 3)"
      ]
    },
    {
      "cell_type": "markdown",
      "metadata": {},
      "source": [
        "Write a Python program to copy the contents of one text file to another."
      ]
    },
    {
      "cell_type": "code",
      "execution_count": 6,
      "metadata": {},
      "outputs": [
        {
          "name": "stdout",
          "output_type": "stream",
          "text": [
            "Error: File 'source.txt' not found.\n"
          ]
        }
      ],
      "source": [
        "def copy_file(source, destination):\n",
        "    try:\n",
        "        with open(source, 'r') as src_file:\n",
        "            with open(destination, 'w') as dest_file:\n",
        "                dest_file.write(src_file.read())\n",
        "    except FileNotFoundError:\n",
        "        print(f\"Error: File '{source}' not found.\")\n",
        "\n",
        "\n",
        "copy_file('source.txt', 'destination.txt')"
      ]
    },
    {
      "cell_type": "markdown",
      "metadata": {},
      "source": [
        "How can you check if a file exists in a specified directory in Python?"
      ]
    },
    {
      "cell_type": "code",
      "execution_count": 7,
      "metadata": {},
      "outputs": [
        {
          "name": "stdout",
          "output_type": "stream",
          "text": [
            "File 'example.txt' not found in '/path/to/directory'.\n"
          ]
        }
      ],
      "source": [
        "import os\n",
        "\n",
        "def check_file_exists(directory, filename):\n",
        "    path = os.path.join(directory, filename)\n",
        "    if os.path.exists(path):\n",
        "        print(f\"File '{filename}' exists in '{directory}'.\")\n",
        "    else:\n",
        "        print(f\"File '{filename}' not found in '{directory}'.\")\n",
        "\n",
        "check_file_exists('/path/to/directory', 'example.txt')"
      ]
    },
    {
      "cell_type": "markdown",
      "metadata": {},
      "source": [
        "Implement a Python program to read and print the file size (in bytes) of a given file."
      ]
    },
    {
      "cell_type": "code",
      "execution_count": 8,
      "metadata": {},
      "outputs": [
        {
          "name": "stdout",
          "output_type": "stream",
          "text": [
            "Error: File 'sample.txt' not found.\n"
          ]
        }
      ],
      "source": [
        "import os\n",
        "\n",
        "def get_file_size(filename):\n",
        "    try:\n",
        "        size = os.path.getsize(filename)\n",
        "        print(f\"File size of '{filename}': {size} bytes\")\n",
        "    except FileNotFoundError:\n",
        "        print(f\"Error: File '{filename}' not found.\")\n",
        "\n",
        "get_file_size('sample.txt')"
      ]
    },
    {
      "cell_type": "markdown",
      "metadata": {},
      "source": [
        "How can you read a binary file in Python and display its content as hexadecimal?"
      ]
    },
    {
      "cell_type": "code",
      "execution_count": 9,
      "metadata": {},
      "outputs": [
        {
          "name": "stdout",
          "output_type": "stream",
          "text": [
            "Error: File 'binary_data.bin' not found.\n"
          ]
        }
      ],
      "source": [
        "def read_binary_file(filename):\n",
        "    try:\n",
        "        with open(filename, 'rb') as file:\n",
        "            content = file.read()\n",
        "            hex_content = content.hex()\n",
        "            print(hex_content)\n",
        "    except FileNotFoundError:\n",
        "        print(f\"Error: File '{filename}' not found.\")\n",
        "\n",
        "read_binary_file('binary_data.bin')"
      ]
    },
    {
      "cell_type": "markdown",
      "metadata": {},
      "source": [
        "Write a Python program to remove a file."
      ]
    },
    {
      "cell_type": "code",
      "execution_count": 10,
      "metadata": {},
      "outputs": [
        {
          "name": "stdout",
          "output_type": "stream",
          "text": [
            "Error: File 'file_to_delete.txt' not found.\n"
          ]
        }
      ],
      "source": [
        "import os\n",
        "\n",
        "def remove_file(filename):\n",
        "    try:\n",
        "        os.remove(filename)\n",
        "        print(f\"File '{filename}' removed successfully.\")\n",
        "    except FileNotFoundError:\n",
        "        print(f\"Error: File '{filename}' not found.\")\n",
        "\n",
        "remove_file('file_to_delete.txt')"
      ]
    }
  ],
  "metadata": {
    "colab": {
      "authorship_tag": "ABX9TyMHBvWrHV3c0pk2SDYHSedP",
      "include_colab_link": true,
      "provenance": []
    },
    "kernelspec": {
      "display_name": "Python 3",
      "name": "python3"
    },
    "language_info": {
      "codemirror_mode": {
        "name": "ipython",
        "version": 3
      },
      "file_extension": ".py",
      "mimetype": "text/x-python",
      "name": "python",
      "nbconvert_exporter": "python",
      "pygments_lexer": "ipython3",
      "version": "3.12.0"
    }
  },
  "nbformat": 4,
  "nbformat_minor": 0
}
