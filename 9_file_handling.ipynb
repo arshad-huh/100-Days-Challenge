{
  "nbformat": 4,
  "nbformat_minor": 0,
  "metadata": {
    "colab": {
      "provenance": [],
      "authorship_tag": "ABX9TyMHBvWrHV3c0pk2SDYHSedP",
      "include_colab_link": true
    },
    "kernelspec": {
      "name": "python3",
      "display_name": "Python 3"
    },
    "language_info": {
      "name": "python"
    }
  },
  "cells": [
    {
      "cell_type": "markdown",
      "metadata": {
        "id": "view-in-github",
        "colab_type": "text"
      },
      "source": [
        "<a href=\"https://colab.research.google.com/github/arshad-huh/100Days-Python-Practice/blob/main/9_file_handling.ipynb\" target=\"_parent\"><img src=\"https://colab.research.google.com/assets/colab-badge.svg\" alt=\"Open In Colab\"/></a>"
      ]
    },
    {
      "cell_type": "markdown",
      "source": [
        "Write a Python program to read an entire text file."
      ],
      "metadata": {
        "id": "hPS1U6_CsY7S"
      }
    },
    {
      "cell_type": "code",
      "execution_count": 7,
      "metadata": {
        "colab": {
          "base_uri": "https://localhost:8080/"
        },
        "id": "yXi2bAsZqBzR",
        "outputId": "2eb3a90f-3af0-4d6a-c7c5-002a3341ea07"
      },
      "outputs": [
        {
          "output_type": "stream",
          "name": "stdout",
          "text": [
            "A TXT file, short for \"text file,\" is a type of computer file that stores plain text information without any formatting These files are widely used for various purposes, such as storing data, writing scripts, and exchanging information between different programs and platforms TXT files are simple and easy to create and edit, making them popular for a wide range of applications\n",
            "\n",
            "One of the key characteristics of TXT files is their simplicity Unlike other file formats such as DOCX (Microsoft Word document) or PDF (Portable Document Format), which can contain complex formatting, images, and other multimedia elements, TXT files contain only plain text This simplicity makes TXT files lightweight and easy to work with, as they can be opened and edited using a basic text editor program like Notepad on Windows or TextEdit on macOS\n",
            "\n",
            "One common use of TXT files is for storing data in a format that is easily readable by both humans and computers For example, a TXT file might contain a list of names, addresses, or other information that needs to be processed by a computer program Because TXT files are plain text, they can be easily parsed and manipulated using programming languages like Python, Java, or C++\n",
            "\n",
            "Another use of TXT files is for writing scripts or code Many programming languages use TXT files as a standard way to store source code Programmers can write code in a text editor and save it as a TXT file, which can then be compiled or interpreted by the appropriate programming language's compiler or interpreter\n",
            "\n",
            "TXT files are also commonly used for sharing text-based information over the internet For example, when you download a README file from a software repository or a configuration file from a website, it is often in TXT format This is because TXT files are platform-independent and can be opened and read on any device without the need for special software When you download a TXT file from the internet, you are essentially downloading a plain text document that can be opened and read using any text editor or word processing program This makes TXT files convenient for sharing information quickly and easily\n",
            "\n",
            "If you're looking to work with TXT files or need a sample file for testing purposes, there are many resources available online where you can download sample TXT files Simply search for \"sample TXT file download\" or \"text file download,\" and you'll find a variety of options to choose from These sample files can help you familiarize yourself with the structure and content of TXT files and experiment with different text editing and processing tasks\n",
            "\n",
            "In conclusion, a TXT file is a simple, plain text document that is widely used for storing data, writing code, and sharing text-based information With their simplicity and versatility, TXT files play an essential role in computing and are an indispensable tool for anyone working with text-based data or programming languages\n"
          ]
        }
      ],
      "source": [
        "def read_file(filename):\n",
        "  try:\n",
        "    with open(filename, 'r') as file:\n",
        "      content = file.read()\n",
        "      print(content)\n",
        "  except FileNotFoundError as fe:\n",
        "    print(fe)\n",
        "\n",
        "read_file('sample1.txt')"
      ]
    },
    {
      "cell_type": "markdown",
      "source": [
        "How would you write a Python program to count the number of lines in a text file?"
      ],
      "metadata": {
        "id": "bexZt59rtYFE"
      }
    },
    {
      "cell_type": "code",
      "source": [
        "def count_lines(filename):\n",
        "    try:\n",
        "        with open(filename, 'r') as file:\n",
        "            line_count = sum(1 for line in file)\n",
        "            print(f\"Number of lines in '{filename}': {line_count}\")\n",
        "    except FileNotFoundError:\n",
        "        print(f\"Error: File '{filename}' not found.\")"
      ],
      "metadata": {
        "id": "Daap9ViDtXSM"
      },
      "execution_count": null,
      "outputs": []
    },
    {
      "cell_type": "markdown",
      "source": [
        "Implement a function in Python to write a list of strings to a text file, each on a new line."
      ],
      "metadata": {
        "id": "NbNU8oVFxQnW"
      }
    },
    {
      "cell_type": "code",
      "source": [
        "def write_lines(filename, lines):\n",
        "    with open(filename, 'w') as file:\n",
        "        for line in lines:\n",
        "            file.write(line + '\\n')\n",
        "\n",
        "\n",
        "lines_to_write = ['Hello', 'World', 'Python']\n",
        "write_lines('output.txt', lines_to_write)"
      ],
      "metadata": {
        "id": "t012EfjaxS6h"
      },
      "execution_count": 14,
      "outputs": []
    },
    {
      "cell_type": "markdown",
      "source": [
        "How can you append a new line to an existing text file in Python?"
      ],
      "metadata": {
        "id": "ACA5kDBLxbga"
      }
    },
    {
      "cell_type": "code",
      "source": [
        "def append_line(filename, line):\n",
        "    with open(filename, 'a') as file:\n",
        "        file.write(line + '\\n')\n",
        "\n",
        "append_line('output.txt', 'Appending this line.')"
      ],
      "metadata": {
        "id": "usE7mZeTxc21"
      },
      "execution_count": null,
      "outputs": []
    }
  ]
}