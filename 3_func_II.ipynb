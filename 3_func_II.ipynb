{
  "nbformat": 4,
  "nbformat_minor": 0,
  "metadata": {
    "colab": {
      "provenance": [],
      "authorship_tag": "ABX9TyPQqIYR5geFnn9eM9Dbp9SS",
      "include_colab_link": true
    },
    "kernelspec": {
      "name": "python3",
      "display_name": "Python 3"
    },
    "language_info": {
      "name": "python"
    }
  },
  "cells": [
    {
      "cell_type": "markdown",
      "metadata": {
        "id": "view-in-github",
        "colab_type": "text"
      },
      "source": [
        "<a href=\"https://colab.research.google.com/github/arshad-huh/100Days-Python-Practice/blob/main/3_func_II.ipynb\" target=\"_parent\"><img src=\"https://colab.research.google.com/assets/colab-badge.svg\" alt=\"Open In Colab\"/></a>"
      ]
    },
    {
      "cell_type": "markdown",
      "source": [
        "Write a function sum_numbers that takes a variable number of arguments and calculates the sum of all the numbers passed as arguments."
      ],
      "metadata": {
        "id": "MpJ_gspghbl6"
      }
    },
    {
      "cell_type": "code",
      "execution_count": 1,
      "metadata": {
        "colab": {
          "base_uri": "https://localhost:8080/"
        },
        "id": "8og5gWtphEOh",
        "outputId": "c387413d-4526-44f2-9ba5-e395c395e37b"
      },
      "outputs": [
        {
          "output_type": "stream",
          "name": "stdout",
          "text": [
            "45\n"
          ]
        }
      ],
      "source": [
        "def sum_numbers(*args):\n",
        "  return sum(args)\n",
        "\n",
        "print(sum_numbers(1,2,3,4,5,6,7,8,9))"
      ]
    },
    {
      "cell_type": "markdown",
      "source": [],
      "metadata": {
        "id": "PCjO4Gf9iM7f"
      }
    }
  ]
}