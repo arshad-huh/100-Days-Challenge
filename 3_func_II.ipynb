{
  "nbformat": 4,
  "nbformat_minor": 0,
  "metadata": {
    "colab": {
      "provenance": [],
      "authorship_tag": "ABX9TyOzxLw6r0i0msnRD/qTZaxj",
      "include_colab_link": true
    },
    "kernelspec": {
      "name": "python3",
      "display_name": "Python 3"
    },
    "language_info": {
      "name": "python"
    }
  },
  "cells": [
    {
      "cell_type": "markdown",
      "metadata": {
        "id": "view-in-github",
        "colab_type": "text"
      },
      "source": [
        "<a href=\"https://colab.research.google.com/github/arshad-huh/100Days-Python-Practice/blob/main/3_func_II.ipynb\" target=\"_parent\"><img src=\"https://colab.research.google.com/assets/colab-badge.svg\" alt=\"Open In Colab\"/></a>"
      ]
    },
    {
      "cell_type": "markdown",
      "source": [
        "### High Order Function"
      ],
      "metadata": {
        "id": "uzxV6ar1Fytj"
      }
    },
    {
      "cell_type": "markdown",
      "source": [
        "Write a Python program to combine two lists element-wise using zip and calculate the product of corresponding elements."
      ],
      "metadata": {
        "id": "lA3o32FauKOs"
      }
    },
    {
      "cell_type": "code",
      "source": [
        "list1 = [1,2,3,4,5]\n",
        "list2 = [5,4,3,2,1]\n",
        "\n",
        "zipped_list = list(zip(list1,list2))\n",
        "\n",
        "prod_list = []\n",
        "for x,y in zipped_list:\n",
        "  prod_list.append(x*y)\n",
        "\n",
        "print(prod_list)"
      ],
      "metadata": {
        "id": "Ig4tLSiruLq6",
        "outputId": "8f7abda6-2850-446c-e09b-909f8a3fa305",
        "colab": {
          "base_uri": "https://localhost:8080/"
        }
      },
      "execution_count": 13,
      "outputs": [
        {
          "output_type": "stream",
          "name": "stdout",
          "text": [
            "[5, 8, 9, 8, 5]\n"
          ]
        }
      ]
    },
    {
      "cell_type": "markdown",
      "source": [
        "Write a Python program to convert a list of strings into uppercase using map and a lambda function."
      ],
      "metadata": {
        "id": "FPhGfNIivCv4"
      }
    },
    {
      "cell_type": "code",
      "source": [
        "list_str = [\"Hello\", \"World\",\"huh\"]\n",
        "\n",
        "upper_list = list(map(lambda x: x.upper(), list_str))\n",
        "\n",
        "print(upper_list)"
      ],
      "metadata": {
        "id": "5lNCn15jvOtr",
        "outputId": "a302bf21-861b-4b04-9c8f-2cbfcf7ef9e7",
        "colab": {
          "base_uri": "https://localhost:8080/"
        }
      },
      "execution_count": 14,
      "outputs": [
        {
          "output_type": "stream",
          "name": "stdout",
          "text": [
            "['HELLO', 'WORLD', 'HUH']\n"
          ]
        }
      ]
    },
    {
      "cell_type": "markdown",
      "source": [
        "Write a Python program to filter out even numbers from a list using filter and a lambda function."
      ],
      "metadata": {
        "id": "7EGB8HAIvy8f"
      }
    },
    {
      "cell_type": "code",
      "source": [
        "list1 = [1,2,3,4,5,6,7,8,9,0]\n",
        "\n",
        "filtered_even = list(filter(lambda x: x%2==0 and x!=0,list1))\n",
        "filtered_even"
      ],
      "metadata": {
        "id": "E0WKTXJpv3zv",
        "outputId": "c2c0063f-61fb-4a37-9029-c448b3a5e3c3",
        "colab": {
          "base_uri": "https://localhost:8080/"
        }
      },
      "execution_count": 4,
      "outputs": [
        {
          "output_type": "execute_result",
          "data": {
            "text/plain": [
              "[2, 4, 6, 8]"
            ]
          },
          "metadata": {},
          "execution_count": 4
        }
      ]
    },
    {
      "cell_type": "markdown",
      "source": [
        "Write a Python program to compute the element-wise sum of two lists using map and zip."
      ],
      "metadata": {
        "id": "VJ1zSZPTDzs7"
      }
    },
    {
      "cell_type": "code",
      "source": [
        "listx = [1,2,3,4,5]\n",
        "listy = [5,4,3,2,1]\n",
        "\n",
        "sum_elem = list(map(lambda x:x[0]+x[1] , zip(listx,listy)))\n",
        "sum_elem"
      ],
      "metadata": {
        "id": "zN0-jfmPDpU_",
        "outputId": "1697bdf3-74af-4886-8a93-5241f2e4b404",
        "colab": {
          "base_uri": "https://localhost:8080/"
        }
      },
      "execution_count": 8,
      "outputs": [
        {
          "output_type": "execute_result",
          "data": {
            "text/plain": [
              "[6, 6, 6, 6, 6]"
            ]
          },
          "metadata": {},
          "execution_count": 8
        }
      ]
    },
    {
      "cell_type": "markdown",
      "source": [
        "Write a function sum_numbers that takes a variable number of arguments and calculates the sum of all the numbers passed as arguments."
      ],
      "metadata": {
        "id": "MpJ_gspghbl6"
      }
    },
    {
      "cell_type": "code",
      "execution_count": 2,
      "metadata": {
        "colab": {
          "base_uri": "https://localhost:8080/"
        },
        "id": "8og5gWtphEOh",
        "outputId": "fae04cc7-fd8a-4f4d-93fb-f20897ace27d"
      },
      "outputs": [
        {
          "output_type": "stream",
          "name": "stdout",
          "text": [
            "45\n"
          ]
        }
      ],
      "source": [
        "def sum_numbers(*args):\n",
        "  return sum(args)\n",
        "\n",
        "print(sum_numbers(1,2,3,4,5,6,7,8,9))"
      ]
    },
    {
      "cell_type": "markdown",
      "source": [
        "Write a function concatenate_strings that accepts any number of strings as keyword arguments (**kwargs) and concatenates them with a specified separator."
      ],
      "metadata": {
        "id": "PCjO4Gf9iM7f"
      }
    },
    {
      "cell_type": "code",
      "source": [
        "def concatenate_strings(sep=\", \", **kwargs):\n",
        "  return sep.join(kwargs.values())\n",
        "\n",
        "print(concatenate_strings(d=\"Hakuna\", g=\"Matata\", o=\"!\", sep=\"-\"))"
      ],
      "metadata": {
        "id": "JeKSB7hunR1I",
        "outputId": "62c05143-5827-45ba-eb1c-99bf04ff330c",
        "colab": {
          "base_uri": "https://localhost:8080/"
        }
      },
      "execution_count": 1,
      "outputs": [
        {
          "output_type": "stream",
          "name": "stdout",
          "text": [
            "Hakuna-Matata-!\n"
          ]
        }
      ]
    },
    {
      "cell_type": "markdown",
      "source": [
        "Write a function product_numbers that accepts a required first number and any number of additional numbers (*args) as arguments, and returns the product of these numbers."
      ],
      "metadata": {
        "id": "dBBLHUZyoKjc"
      }
    },
    {
      "cell_type": "code",
      "source": [
        "def product_numbers(first_num,*args):\n",
        "  prod = 1\n",
        "  if args:\n",
        "    for i in args:\n",
        "      prod = prod*i\n",
        "    return prod*first_num\n",
        "  else:\n",
        "    return first_num\n",
        "\n",
        "print(product_numbers(8))\n",
        "print(product_numbers(8,2,4,5,6,7))"
      ],
      "metadata": {
        "id": "f5NJ23aToPjQ",
        "outputId": "552df0cb-da79-4ec1-85ae-24f80b6ee3f1",
        "colab": {
          "base_uri": "https://localhost:8080/"
        }
      },
      "execution_count": 6,
      "outputs": [
        {
          "output_type": "stream",
          "name": "stdout",
          "text": [
            "8\n",
            "13440\n"
          ]
        }
      ]
    },
    {
      "cell_type": "markdown",
      "source": [
        "Write a function filter_odd_numbers that accepts a list of numbers and additional keyword arguments (**kwargs). It should return a filtered list containing only odd numbers if the only_odd argument is True."
      ],
      "metadata": {
        "id": "RzG0wPk3pY84"
      }
    },
    {
      "cell_type": "code",
      "source": [
        "def filter_odd_nums(lst, **kwargs):\n",
        "  if kwargs.get(\"only_odd\") == True:\n",
        "    return [x for x in lst if x%2 !=0]\n",
        "  else:\n",
        "    return lst\n",
        "\n",
        "print(filter_odd_nums([1,2,3,4,5,6,7,8,9], only_odd=True))"
      ],
      "metadata": {
        "id": "LvBDTZz8pZ4s",
        "outputId": "11975c0f-2e1b-4b9d-bd96-1dfcb35f4f1e",
        "colab": {
          "base_uri": "https://localhost:8080/"
        }
      },
      "execution_count": 7,
      "outputs": [
        {
          "output_type": "stream",
          "name": "stdout",
          "text": [
            "[1, 3, 5, 7, 9]\n"
          ]
        }
      ]
    },
    {
      "cell_type": "markdown",
      "source": [
        "Write a function count_vowels that accepts a string and counts the occurrences of each vowel (a, e, i, o, u) using keyword arguments (**kwargs)."
      ],
      "metadata": {
        "id": "pzflvU1WqdK_"
      }
    },
    {
      "cell_type": "code",
      "source": [
        "def count_vowels(string, **kwargs):\n",
        "  vowels = [\"a\",\"e\",\"i\",\"o\",\"u\"]\n",
        "  dict = {vowel: string.lower().count(vowel) for vowel in vowels}\n",
        "  return dict\n",
        "\n",
        "print(count_vowels(\"My name is Arshad.\"))"
      ],
      "metadata": {
        "id": "-P4dgStDqoLa",
        "outputId": "196e6de0-15b0-4e50-c581-fb52a86fa69f",
        "colab": {
          "base_uri": "https://localhost:8080/"
        }
      },
      "execution_count": 12,
      "outputs": [
        {
          "output_type": "stream",
          "name": "stdout",
          "text": [
            "{'a': 3, 'e': 1, 'i': 1, 'o': 0, 'u': 0}\n"
          ]
        }
      ]
    }
  ]
}