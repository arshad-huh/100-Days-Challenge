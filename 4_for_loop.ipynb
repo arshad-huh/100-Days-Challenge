{
  "nbformat": 4,
  "nbformat_minor": 0,
  "metadata": {
    "colab": {
      "provenance": [],
      "authorship_tag": "ABX9TyOf6dckhP7CfniyCIfUNrtT",
      "include_colab_link": true
    },
    "kernelspec": {
      "name": "python3",
      "display_name": "Python 3"
    },
    "language_info": {
      "name": "python"
    }
  },
  "cells": [
    {
      "cell_type": "markdown",
      "metadata": {
        "id": "view-in-github",
        "colab_type": "text"
      },
      "source": [
        "<a href=\"https://colab.research.google.com/github/arshad-huh/100Days-Python-Practice/blob/main/4_for_loop.ipynb\" target=\"_parent\"><img src=\"https://colab.research.google.com/assets/colab-badge.svg\" alt=\"Open In Colab\"/></a>"
      ]
    },
    {
      "cell_type": "markdown",
      "source": [
        "Write a Python program to print all the even numbers from 1 to 10 using a for loop"
      ],
      "metadata": {
        "id": "1P-HC5SgXWq7"
      }
    },
    {
      "cell_type": "code",
      "source": [
        "for i in range(1,11):\n",
        "  if i%2==0:\n",
        "    print(i)"
      ],
      "metadata": {
        "id": "1zbaOkxGYdyA",
        "outputId": "08330b53-f575-4c99-9d3c-fa8ba9df8581",
        "colab": {
          "base_uri": "https://localhost:8080/"
        }
      },
      "execution_count": 1,
      "outputs": [
        {
          "output_type": "stream",
          "name": "stdout",
          "text": [
            "2\n",
            "4\n",
            "6\n",
            "8\n",
            "10\n"
          ]
        }
      ]
    },
    {
      "cell_type": "markdown",
      "source": [
        "Write a Python program to find the sum of all even numbers from 1 to 100 using a for loop."
      ],
      "metadata": {
        "id": "R5Hpp_SCcXjq"
      }
    },
    {
      "cell_type": "code",
      "source": [
        "sum = 0\n",
        "\n",
        "for i in range(1,101):\n",
        "  if i%2==0:\n",
        "    sum += i\n",
        "\n",
        "print(sum)"
      ],
      "metadata": {
        "id": "SYuBrH_Jcasw",
        "outputId": "5ae9588e-b141-4f72-9fd3-6f8a880d6a5a",
        "colab": {
          "base_uri": "https://localhost:8080/"
        }
      },
      "execution_count": 2,
      "outputs": [
        {
          "output_type": "stream",
          "name": "stdout",
          "text": [
            "2550\n"
          ]
        }
      ]
    },
    {
      "cell_type": "markdown",
      "source": [
        "Write a Python program to print the multiplication table of a given number using a for loop."
      ],
      "metadata": {
        "id": "Ec36dazWdLbt"
      }
    },
    {
      "cell_type": "code",
      "source": [
        "num = int(input(\"Enter a number: \"))\n",
        "\n",
        "for i in range(num,(num*10)+1,num):\n",
        "  print(i)"
      ],
      "metadata": {
        "id": "HMEjlSD1dIWN",
        "outputId": "2771db0a-d1d0-451d-d207-7821723d9348",
        "colab": {
          "base_uri": "https://localhost:8080/"
        }
      },
      "execution_count": 3,
      "outputs": [
        {
          "output_type": "stream",
          "name": "stdout",
          "text": [
            "Enter a number: 5\n",
            "5\n",
            "10\n",
            "15\n",
            "20\n",
            "25\n",
            "30\n",
            "35\n",
            "40\n",
            "45\n",
            "50\n"
          ]
        }
      ]
    },
    {
      "cell_type": "code",
      "source": [
        "num = int(input(\"Enter a number: \"))\n",
        "for i in range(1, 11):\n",
        "    print(f\"{num} x {i} = {num * i}\")"
      ],
      "metadata": {
        "id": "sbttdVKGdyhX",
        "outputId": "35fcbba0-e8bd-4be3-d82b-7c3acab0c984",
        "colab": {
          "base_uri": "https://localhost:8080/"
        }
      },
      "execution_count": 4,
      "outputs": [
        {
          "output_type": "stream",
          "name": "stdout",
          "text": [
            "Enter a number: 20\n",
            "20 x 1 = 20\n",
            "20 x 2 = 40\n",
            "20 x 3 = 60\n",
            "20 x 4 = 80\n",
            "20 x 5 = 100\n",
            "20 x 6 = 120\n",
            "20 x 7 = 140\n",
            "20 x 8 = 160\n",
            "20 x 9 = 180\n",
            "20 x 10 = 200\n"
          ]
        }
      ]
    },
    {
      "cell_type": "markdown",
      "source": [
        "Write a Python program to reverse a given string using a for loop."
      ],
      "metadata": {
        "id": "uXBM_67jd9rB"
      }
    },
    {
      "cell_type": "code",
      "source": [
        "string = input(\"Enter a string: \")\n",
        "reversed_string = \"\"\n",
        "for char in string:\n",
        "    reversed_string = char + reversed_string\n",
        "print(f\"The reversed string is: {reversed_string}\")"
      ],
      "metadata": {
        "id": "AQeJsk09eZhR",
        "outputId": "d5b1debf-4293-4d5c-aea4-24f6f4102f71",
        "colab": {
          "base_uri": "https://localhost:8080/"
        }
      },
      "execution_count": 5,
      "outputs": [
        {
          "output_type": "stream",
          "name": "stdout",
          "text": [
            "Enter a string: python\n",
            "The reversed string is: nohtyp\n"
          ]
        }
      ]
    },
    {
      "cell_type": "markdown",
      "source": [
        "Write a Python program to find the factorial of a given number using a for loop"
      ],
      "metadata": {
        "id": "stGtZ1l_fIBy"
      }
    },
    {
      "cell_type": "code",
      "source": [
        "num = int(input(\"Enter a number: \"))\n",
        "factorial = 1\n",
        "\n",
        "for i in range(1,num+1):\n",
        "  factorial *= i\n",
        "\n",
        "print(factorial)"
      ],
      "metadata": {
        "id": "dy20ua7VfKzj",
        "outputId": "ee71e70a-3c1e-4d29-84ad-bb920df810c3",
        "colab": {
          "base_uri": "https://localhost:8080/"
        }
      },
      "execution_count": 6,
      "outputs": [
        {
          "output_type": "stream",
          "name": "stdout",
          "text": [
            "Enter a number: 10\n",
            "3628800\n"
          ]
        }
      ]
    },
    {
      "cell_type": "markdown",
      "source": [
        "Write a Python program to check if a given word is a palindrome using a for loop"
      ],
      "metadata": {
        "id": "S8C71d7yfuBA"
      }
    },
    {
      "cell_type": "code",
      "source": [
        "word = \"mom\"\n",
        "\n",
        "reversed_word = \"\"\n",
        "for i in word:\n",
        "  reversed_word = i + reversed_word\n",
        "\n",
        "if word==reversed_word:\n",
        "  print(\"It is a Palindrome\")\n",
        "else:\n",
        "  print(\"It is not a palindrome\")"
      ],
      "metadata": {
        "id": "g4FUd1Rpf5TS",
        "outputId": "eecec8b9-6c40-443b-e6f5-86dca9ad6796",
        "colab": {
          "base_uri": "https://localhost:8080/"
        }
      },
      "execution_count": 7,
      "outputs": [
        {
          "output_type": "stream",
          "name": "stdout",
          "text": [
            "It is a Palindrome\n"
          ]
        }
      ]
    },
    {
      "cell_type": "markdown",
      "source": [
        "Write a Python program to find the sum of the digits of a given number using a for loop."
      ],
      "metadata": {
        "id": "NieDJp69g3b4"
      }
    },
    {
      "cell_type": "code",
      "source": [
        "num = input(\"Enter a number: \")\n",
        "\n",
        "sum = 0\n",
        "for i in num:\n",
        "  sum+=int(i)\n",
        "\n",
        "print(sum)"
      ],
      "metadata": {
        "id": "kxTwKScDga6U",
        "outputId": "8bda97a8-e982-41fe-d246-3a3da9583c98",
        "colab": {
          "base_uri": "https://localhost:8080/"
        }
      },
      "execution_count": 8,
      "outputs": [
        {
          "output_type": "stream",
          "name": "stdout",
          "text": [
            "Enter a number: 25\n",
            "7\n"
          ]
        }
      ]
    },
    {
      "cell_type": "markdown",
      "source": [
        "Write a Python program to find the greatest common divisor (GCD) of two numbers using the Euclidean algorithm and a for loop."
      ],
      "metadata": {
        "id": "kHV6yv80hdZJ"
      }
    },
    {
      "cell_type": "code",
      "source": [
        "def find_hcf(num1, num2):\n",
        "  small = min(num1,num2)\n",
        "  for i in range(small,0,-1):\n",
        "    if num1%i==0 and num2%i ==0 and i!=1:\n",
        "      print(i)\n",
        "      break\n",
        "\n",
        "find_hcf(92,200)"
      ],
      "metadata": {
        "id": "aDdHgxZhhhMh",
        "outputId": "00f90813-c561-46cb-da4f-1f57a50b2e14",
        "colab": {
          "base_uri": "https://localhost:8080/"
        }
      },
      "execution_count": 9,
      "outputs": [
        {
          "output_type": "stream",
          "name": "stdout",
          "text": [
            "4\n"
          ]
        }
      ]
    }
  ]
}