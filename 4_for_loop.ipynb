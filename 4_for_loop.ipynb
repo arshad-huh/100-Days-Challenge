{
  "nbformat": 4,
  "nbformat_minor": 0,
  "metadata": {
    "colab": {
      "provenance": [],
      "authorship_tag": "ABX9TyPReWq0xpkDgjYosJ1dKOY1",
      "include_colab_link": true
    },
    "kernelspec": {
      "name": "python3",
      "display_name": "Python 3"
    },
    "language_info": {
      "name": "python"
    }
  },
  "cells": [
    {
      "cell_type": "markdown",
      "metadata": {
        "id": "view-in-github",
        "colab_type": "text"
      },
      "source": [
        "<a href=\"https://colab.research.google.com/github/arshad-huh/100Days-Python-Practice/blob/main/4_for_loop.ipynb\" target=\"_parent\"><img src=\"https://colab.research.google.com/assets/colab-badge.svg\" alt=\"Open In Colab\"/></a>"
      ]
    },
    {
      "cell_type": "markdown",
      "source": [
        "Write a Python program to print all the even numbers from 1 to 10 using a for loop"
      ],
      "metadata": {
        "id": "1P-HC5SgXWq7"
      }
    },
    {
      "cell_type": "code",
      "source": [
        "for i in range(1,11):\n",
        "  if i%2==0:\n",
        "    print(i)"
      ],
      "metadata": {
        "id": "1zbaOkxGYdyA",
        "outputId": "84410726-f1b5-4f95-8b7a-b154f3820dce",
        "colab": {
          "base_uri": "https://localhost:8080/"
        }
      },
      "execution_count": 2,
      "outputs": [
        {
          "output_type": "stream",
          "name": "stdout",
          "text": [
            "2\n",
            "4\n",
            "6\n",
            "8\n",
            "10\n"
          ]
        }
      ]
    },
    {
      "cell_type": "markdown",
      "source": [
        "Write a Python program to find the sum of all even numbers from 1 to 100 using a for loop."
      ],
      "metadata": {
        "id": "R5Hpp_SCcXjq"
      }
    },
    {
      "cell_type": "code",
      "source": [
        "sum = 0\n",
        "\n",
        "for i in range(1,101):\n",
        "  if i%2==0:\n",
        "    sum += i\n",
        "\n",
        "print(sum)"
      ],
      "metadata": {
        "id": "SYuBrH_Jcasw",
        "outputId": "2c9e2e1e-a758-4b6b-88f9-ce2fe5758bae",
        "colab": {
          "base_uri": "https://localhost:8080/"
        }
      },
      "execution_count": 3,
      "outputs": [
        {
          "output_type": "stream",
          "name": "stdout",
          "text": [
            "2550\n"
          ]
        }
      ]
    },
    {
      "cell_type": "markdown",
      "source": [
        "Write a Python program to print the multiplication table of a given number using a for loop."
      ],
      "metadata": {
        "id": "Ec36dazWdLbt"
      }
    },
    {
      "cell_type": "code",
      "source": [
        "num = int(input(\"Enter a number: \"))\n",
        "\n",
        "for i in range(num,(num*10)+1,num):\n",
        "  print(i)"
      ],
      "metadata": {
        "id": "HMEjlSD1dIWN",
        "outputId": "09feb716-3741-45ae-c8c9-2cb8d8f3c353",
        "colab": {
          "base_uri": "https://localhost:8080/"
        }
      },
      "execution_count": 7,
      "outputs": [
        {
          "output_type": "stream",
          "name": "stdout",
          "text": [
            "Enter a number: 5\n",
            "5\n",
            "10\n",
            "15\n",
            "20\n",
            "25\n",
            "30\n",
            "35\n",
            "40\n",
            "45\n",
            "50\n"
          ]
        }
      ]
    },
    {
      "cell_type": "code",
      "source": [
        "num = int(input(\"Enter a number: \"))\n",
        "for i in range(1, 11):\n",
        "    print(f\"{num} x {i} = {num * i}\")"
      ],
      "metadata": {
        "id": "sbttdVKGdyhX",
        "outputId": "a6c74a3b-8716-46c4-9740-3793cc9f3b23",
        "colab": {
          "base_uri": "https://localhost:8080/"
        }
      },
      "execution_count": 8,
      "outputs": [
        {
          "output_type": "stream",
          "name": "stdout",
          "text": [
            "Enter a number: 5\n",
            "5 x 1 = 5\n",
            "5 x 2 = 10\n",
            "5 x 3 = 15\n",
            "5 x 4 = 20\n",
            "5 x 5 = 25\n",
            "5 x 6 = 30\n",
            "5 x 7 = 35\n",
            "5 x 8 = 40\n",
            "5 x 9 = 45\n",
            "5 x 10 = 50\n"
          ]
        }
      ]
    },
    {
      "cell_type": "markdown",
      "source": [
        "Write a Python program to reverse a given string using a for loop."
      ],
      "metadata": {
        "id": "uXBM_67jd9rB"
      }
    },
    {
      "cell_type": "code",
      "source": [
        "string = input(\"Enter a string: \")\n",
        "reversed_string = \"\"\n",
        "for char in string:\n",
        "    reversed_string = char + reversed_string\n",
        "print(f\"The reversed string is: {reversed_string}\")"
      ],
      "metadata": {
        "id": "AQeJsk09eZhR",
        "outputId": "7e67ec47-b0e4-40ab-a098-73afdb211abb",
        "colab": {
          "base_uri": "https://localhost:8080/"
        }
      },
      "execution_count": 10,
      "outputs": [
        {
          "output_type": "stream",
          "name": "stdout",
          "text": [
            "Enter a string: python\n",
            "The reversed string is: nohtyp\n"
          ]
        }
      ]
    },
    {
      "cell_type": "markdown",
      "source": [
        "Write a Python program to find the factorial of a given number using a for loop"
      ],
      "metadata": {
        "id": "stGtZ1l_fIBy"
      }
    },
    {
      "cell_type": "code",
      "source": [
        "num = int(input(\"Enter a number: \"))\n",
        "factorial = 1\n",
        "\n",
        "for i in range(1,num+1):\n",
        "  factorial *= i\n",
        "\n",
        "print(factorial)"
      ],
      "metadata": {
        "id": "dy20ua7VfKzj",
        "outputId": "8b950a53-15e9-496f-e18d-d114f3a2098d",
        "colab": {
          "base_uri": "https://localhost:8080/"
        }
      },
      "execution_count": 15,
      "outputs": [
        {
          "output_type": "stream",
          "name": "stdout",
          "text": [
            "Enter a number: 5\n",
            "120\n"
          ]
        }
      ]
    },
    {
      "cell_type": "markdown",
      "source": [
        "Write a Python program to check if a given word is a palindrome using a for loop"
      ],
      "metadata": {
        "id": "S8C71d7yfuBA"
      }
    },
    {
      "cell_type": "code",
      "source": [
        "word = \"mom\"\n",
        "\n",
        "reversed_word = \"\"\n",
        "for i in word:\n",
        "  reversed_word = i + reversed_word\n",
        "\n",
        "if word==reversed_word:\n",
        "  print(\"It is a Palindrome\")\n",
        "else:\n",
        "  print(\"It is not a palindrome\")"
      ],
      "metadata": {
        "id": "g4FUd1Rpf5TS",
        "outputId": "a388c6a9-13d4-4491-a212-5e3273fd45e0",
        "colab": {
          "base_uri": "https://localhost:8080/"
        }
      },
      "execution_count": 19,
      "outputs": [
        {
          "output_type": "stream",
          "name": "stdout",
          "text": [
            "It is a Palindrome\n"
          ]
        }
      ]
    },
    {
      "cell_type": "markdown",
      "source": [
        "Write a Python program to find the sum of the digits of a given number using a for loop."
      ],
      "metadata": {
        "id": "NieDJp69g3b4"
      }
    },
    {
      "cell_type": "code",
      "source": [
        "num = input(\"Enter a number: \")\n",
        "\n",
        "sum = 0\n",
        "for i in num:\n",
        "  sum+=int(i)\n",
        "\n",
        "print(sum)"
      ],
      "metadata": {
        "id": "kxTwKScDga6U",
        "outputId": "f10197da-a89f-42df-9493-652f7a17eaa1",
        "colab": {
          "base_uri": "https://localhost:8080/"
        }
      },
      "execution_count": 20,
      "outputs": [
        {
          "output_type": "stream",
          "name": "stdout",
          "text": [
            "Enter a number: 545\n",
            "14\n"
          ]
        }
      ]
    },
    {
      "cell_type": "markdown",
      "source": [
        "Write a Python program to find the greatest common divisor (GCD) of two numbers using the Euclidean algorithm and a for loop."
      ],
      "metadata": {
        "id": "kHV6yv80hdZJ"
      }
    },
    {
      "cell_type": "code",
      "source": [
        "def find_hcf(num1, num2):\n",
        "  small = min(num1,num2)\n",
        "  for i in range(small,0,-1):\n",
        "    if num1%i==0 and num2%i ==0 and i!=1:\n",
        "      print(i)\n",
        "      break\n",
        "\n",
        "find_hcf(92,200)"
      ],
      "metadata": {
        "id": "aDdHgxZhhhMh",
        "outputId": "6af7a3ed-8c6f-497f-b56b-c8628607a1e3",
        "colab": {
          "base_uri": "https://localhost:8080/"
        }
      },
      "execution_count": 33,
      "outputs": [
        {
          "output_type": "stream",
          "name": "stdout",
          "text": [
            "4\n"
          ]
        }
      ]
    },
    {
      "cell_type": "markdown",
      "source": [
        "\n",
        "Write a Python program to print all the prime numbers within a given range using a for loop"
      ],
      "metadata": {
        "id": "nNPA5xrDkcST"
      }
    },
    {
      "cell_type": "code",
      "source": [
        "def prime_to(num):\n",
        "  for i in range(2,num+1):\n",
        "    for x in range(i,2,-1):\n",
        "      if i%x==0:\n",
        "        break\n",
        "      else:\n",
        "        print(i)\n",
        "\n",
        "prime_to(10)"
      ],
      "metadata": {
        "id": "oHNCPOIRkfvU"
      },
      "execution_count": 35,
      "outputs": []
    },
    {
      "cell_type": "markdown",
      "source": [
        "Write a Python program to find the least common multiple (LCM) of a list of numbers using a for loop and the Euclidean algorithm for GCD"
      ],
      "metadata": {
        "id": "e-3JFsPPlyTK"
      }
    },
    {
      "cell_type": "code",
      "source": [],
      "metadata": {
        "id": "7SKt9Iqklx80"
      },
      "execution_count": null,
      "outputs": []
    }
  ]
}