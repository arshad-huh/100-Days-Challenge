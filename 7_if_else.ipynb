{
  "nbformat": 4,
  "nbformat_minor": 0,
  "metadata": {
    "colab": {
      "provenance": [],
      "authorship_tag": "ABX9TyMDPpm9HUbmESdhdkhuQdmh",
      "include_colab_link": true
    },
    "kernelspec": {
      "name": "python3",
      "display_name": "Python 3"
    },
    "language_info": {
      "name": "python"
    }
  },
  "cells": [
    {
      "cell_type": "markdown",
      "metadata": {
        "id": "view-in-github",
        "colab_type": "text"
      },
      "source": [
        "<a href=\"https://colab.research.google.com/github/arshad-huh/100Days-Python-Practice/blob/main/7_if_else.ipynb\" target=\"_parent\"><img src=\"https://colab.research.google.com/assets/colab-badge.svg\" alt=\"Open In Colab\"/></a>"
      ]
    },
    {
      "cell_type": "markdown",
      "source": [
        "Write a Python program that checks if a given number is positive, negative, or zero."
      ],
      "metadata": {
        "id": "EcwNHMeL6uLQ"
      }
    },
    {
      "cell_type": "code",
      "execution_count": 2,
      "metadata": {
        "colab": {
          "base_uri": "https://localhost:8080/"
        },
        "id": "S7-AREWm6E4Z",
        "outputId": "6c033511-2889-4697-a25f-b32f949db46f"
      },
      "outputs": [
        {
          "output_type": "stream",
          "name": "stdout",
          "text": [
            "Enter a number: 6\n",
            "It is positive.\n"
          ]
        }
      ],
      "source": [
        "num = float(input(\"Enter a number: \"))\n",
        "\n",
        "if num>0:\n",
        "  print(\"It is positive.\")\n",
        "elif num<0:\n",
        "  print(\"It is a negative.\")\n",
        "else:\n",
        "  print(\"It is a Zero.\")"
      ]
    },
    {
      "cell_type": "markdown",
      "source": [
        "Write a Python program that checks if a given year is a leap year."
      ],
      "metadata": {
        "id": "fJv-TaUu7hCl"
      }
    },
    {
      "cell_type": "code",
      "source": [
        "year = int(input(\"Enter a year: \"))\n",
        "\n",
        "if (year % 4 == 0 and year % 100 != 0) or year % 400 == 0:\n",
        "  print(\"It is a leap year!\")\n",
        "else:\n",
        "  print(\"It is not a leap year!\")"
      ],
      "metadata": {
        "colab": {
          "base_uri": "https://localhost:8080/"
        },
        "id": "E6SRaMdv7EdE",
        "outputId": "ae56372a-2a9b-458c-b4ea-a89bfc541f37"
      },
      "execution_count": 3,
      "outputs": [
        {
          "output_type": "stream",
          "name": "stdout",
          "text": [
            "Enter a year: 2024\n",
            "It is a leap year!\n"
          ]
        }
      ]
    },
    {
      "cell_type": "markdown",
      "source": [
        "Write a Python program to determine the largest among three numbers."
      ],
      "metadata": {
        "id": "VwKqb4e68euL"
      }
    },
    {
      "cell_type": "code",
      "source": [
        "def large_num(a,b,c):\n",
        "\n",
        "  if a >= b and a >= c:\n",
        "    print(f\"{a} is the largest number!\")\n",
        "  elif b>=a and b>=c:\n",
        "    print(f\"{b} is the largest number!\")\n",
        "  else:\n",
        "    print(f\"{c} is the largest number!\")\n",
        "\n",
        "large_num(51,10,36)"
      ],
      "metadata": {
        "colab": {
          "base_uri": "https://localhost:8080/"
        },
        "id": "gIU9CV3w8eUD",
        "outputId": "0223f78d-3848-405f-f14a-d72d1cd76688"
      },
      "execution_count": 4,
      "outputs": [
        {
          "output_type": "stream",
          "name": "stdout",
          "text": [
            "51 is the largest number!\n"
          ]
        }
      ]
    },
    {
      "cell_type": "markdown",
      "source": [
        "Write a Python program to find the roots of a quadratic equation ax^2 + bx + c = 0."
      ],
      "metadata": {
        "id": "TbrFkDm69qAt"
      }
    },
    {
      "cell_type": "code",
      "source": [
        "def find_roots(a,b,c):\n",
        "\n",
        "  d = b**2 - 4*a*c\n",
        "\n",
        "  if d > 0:\n",
        "    root1 = (-b + d**0.5)/2*a\n",
        "    root2 = (-b - d**0.5)/2*a\n",
        "    print(f\"Roots are real and distinct: {root1} and {root2}\")\n",
        "  elif d == 0:\n",
        "    root = -b / (2*a)\n",
        "    print(f\"Roots are real and equal: {root}\")\n",
        "  else:\n",
        "    real_part = -b / (2*a)\n",
        "    imag_part = (-d)**0.5 / (2*a)\n",
        "    print(f\"Roots are complex: {real_part} + {imag_part}i and {real_part} - {imag_part}i\")\n",
        "\n",
        "find_roots(-1,9,4)"
      ],
      "metadata": {
        "colab": {
          "base_uri": "https://localhost:8080/"
        },
        "id": "KVvev1q59pSx",
        "outputId": "de4e68ef-353c-470a-d755-28eac965a458"
      },
      "execution_count": 5,
      "outputs": [
        {
          "output_type": "stream",
          "name": "stdout",
          "text": [
            "Roots are real and distinct: -0.42442890089805196 and 9.424428900898052\n"
          ]
        }
      ]
    },
    {
      "cell_type": "markdown",
      "source": [
        "Write a Python program to check if a given string is a palindrome."
      ],
      "metadata": {
        "id": "SlcODZlwA-kV"
      }
    },
    {
      "cell_type": "code",
      "source": [
        "def is_palindrome(string):\n",
        "  clean_string = string.replace(\" \", \"\").lower()\n",
        "\n",
        "  if clean_string == clean_string[::-1]:\n",
        "    print(\"It is a palindrome\")\n",
        "  else:\n",
        "    print(\"It is not palindrome\")\n",
        "\n",
        "is_palindrome(\"python\")\n",
        "is_palindrome(\"mom\")"
      ],
      "metadata": {
        "id": "unTGOcgnBBMO",
        "outputId": "dacbfe6c-9e1b-4b89-bf89-32f99b9af676",
        "colab": {
          "base_uri": "https://localhost:8080/"
        }
      },
      "execution_count": 7,
      "outputs": [
        {
          "output_type": "stream",
          "name": "stdout",
          "text": [
            "It is not palindrome\n",
            "It is a palindrome\n"
          ]
        }
      ]
    },
    {
      "cell_type": "markdown",
      "source": [
        "Write a Python program to calculate the factorial of a number using recursion."
      ],
      "metadata": {
        "id": "2g2K1eBdC-dV"
      }
    },
    {
      "cell_type": "code",
      "source": [
        "def factorial(n):\n",
        "  if n==0 and n==1:\n",
        "    return 1\n",
        "  else:\n",
        "    return n * factorial(n-1)\n",
        "\n",
        "print(factorial(30))"
      ],
      "metadata": {
        "id": "P-Z1W0J3Dqi_"
      },
      "execution_count": null,
      "outputs": []
    },
    {
      "cell_type": "markdown",
      "source": [
        "Write a Python program to count the number of vowels in a given string."
      ],
      "metadata": {
        "id": "STLO-Og0DubS"
      }
    },
    {
      "cell_type": "code",
      "source": [
        "def count_vowels(string):\n",
        "  vowels = \"aeiou\"\n",
        "  return {vowel:string.lower().count(vowel) for vowel in vowels}\n",
        "\n",
        "print(count_vowels(\"My name is Arshad.\"))"
      ],
      "metadata": {
        "id": "nbg55eRuBszy",
        "outputId": "99a668ef-bebb-4e00-9cf7-eb34ed757155",
        "colab": {
          "base_uri": "https://localhost:8080/"
        }
      },
      "execution_count": 16,
      "outputs": [
        {
          "output_type": "stream",
          "name": "stdout",
          "text": [
            "{'a': 3, 'e': 1, 'i': 1, 'o': 0, 'u': 0}\n"
          ]
        }
      ]
    },
    {
      "cell_type": "code",
      "source": [
        "def count_vowels(s):\n",
        "    vowels = \"aeiouAEIOU\"\n",
        "    count = 0\n",
        "    for char in s:\n",
        "        if char in vowels:\n",
        "            count += 1\n",
        "    return count\n",
        "\n",
        "print(count_vowels(\"My name is Arshad.\"))"
      ],
      "metadata": {
        "id": "wu6uxKj5EdsJ",
        "outputId": "1e9094f9-0528-4f47-8a87-01f3c4de5780",
        "colab": {
          "base_uri": "https://localhost:8080/"
        }
      },
      "execution_count": 15,
      "outputs": [
        {
          "output_type": "stream",
          "name": "stdout",
          "text": [
            "5\n"
          ]
        }
      ]
    },
    {
      "cell_type": "markdown",
      "source": [
        "Write a Python program to check if a number is a prime number."
      ],
      "metadata": {
        "id": "ThQT4LhVE7NB"
      }
    },
    {
      "cell_type": "code",
      "source": [
        "def is_prime(num):\n",
        "\n",
        "  if num <=1:\n",
        "    return False\n",
        "\n",
        "  for i in range(2,num):\n",
        "    if num%i == 0:\n",
        "      return False\n",
        "\n",
        "  return True\n",
        "\n",
        "print(is_prime(23))"
      ],
      "metadata": {
        "id": "HQl5x9PfE8FQ",
        "outputId": "032fcc4d-7d0e-44ab-8e2b-f25190a199e1",
        "colab": {
          "base_uri": "https://localhost:8080/"
        }
      },
      "execution_count": 22,
      "outputs": [
        {
          "output_type": "stream",
          "name": "stdout",
          "text": [
            "True\n"
          ]
        }
      ]
    }
  ]
}