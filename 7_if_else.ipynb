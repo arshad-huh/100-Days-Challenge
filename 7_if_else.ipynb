{
  "nbformat": 4,
  "nbformat_minor": 0,
  "metadata": {
    "colab": {
      "provenance": [],
      "authorship_tag": "ABX9TyMag3fcJNyfQCz3sezLAIe6",
      "include_colab_link": true
    },
    "kernelspec": {
      "name": "python3",
      "display_name": "Python 3"
    },
    "language_info": {
      "name": "python"
    }
  },
  "cells": [
    {
      "cell_type": "markdown",
      "metadata": {
        "id": "view-in-github",
        "colab_type": "text"
      },
      "source": [
        "<a href=\"https://colab.research.google.com/github/arshad-huh/100Days-Python-Practice/blob/main/7_if_else.ipynb\" target=\"_parent\"><img src=\"https://colab.research.google.com/assets/colab-badge.svg\" alt=\"Open In Colab\"/></a>"
      ]
    },
    {
      "cell_type": "markdown",
      "source": [
        "Write a Python program that checks if a given number is positive, negative, or zero."
      ],
      "metadata": {
        "id": "EcwNHMeL6uLQ"
      }
    },
    {
      "cell_type": "code",
      "execution_count": 3,
      "metadata": {
        "colab": {
          "base_uri": "https://localhost:8080/"
        },
        "id": "S7-AREWm6E4Z",
        "outputId": "8626735a-28b3-4f58-c1b0-1a750082f1cc"
      },
      "outputs": [
        {
          "output_type": "stream",
          "name": "stdout",
          "text": [
            "Enter a number: -34\n",
            "It is a negative.\n"
          ]
        }
      ],
      "source": [
        "num = float(input(\"Enter a number: \"))\n",
        "\n",
        "if num>0:\n",
        "  print(\"It is positive.\")\n",
        "elif num<0:\n",
        "  print(\"It is a negative.\")\n",
        "else:\n",
        "  print(\"It is a Zero.\")"
      ]
    },
    {
      "cell_type": "markdown",
      "source": [
        "Write a Python program that checks if a given year is a leap year."
      ],
      "metadata": {
        "id": "fJv-TaUu7hCl"
      }
    },
    {
      "cell_type": "code",
      "source": [
        "year = int(input(\"Enter a year: \"))\n",
        "\n",
        "if (year % 4 == 0 and year % 100 != 0) or year % 400 == 0:\n",
        "  print(\"It is a leap year!\")\n",
        "else:\n",
        "  print(\"It is not a leap year!\")"
      ],
      "metadata": {
        "colab": {
          "base_uri": "https://localhost:8080/"
        },
        "id": "E6SRaMdv7EdE",
        "outputId": "ccf84663-37df-40b2-b3c3-546e243e3132"
      },
      "execution_count": 4,
      "outputs": [
        {
          "output_type": "stream",
          "name": "stdout",
          "text": [
            "Enter a year: 2024\n",
            "It is a leap year!\n"
          ]
        }
      ]
    },
    {
      "cell_type": "markdown",
      "source": [
        "Write a Python program to determine the largest among three numbers."
      ],
      "metadata": {
        "id": "VwKqb4e68euL"
      }
    },
    {
      "cell_type": "code",
      "source": [
        "def large_num(a,b,c):\n",
        "\n",
        "  if a >= b and a >= c:\n",
        "    print(f\"{a} is the largest number!\")\n",
        "  elif b>=a and b>=c:\n",
        "    print(f\"{b} is the largest number!\")\n",
        "  else:\n",
        "    print(f\"{c} is the largest number!\")\n",
        "\n",
        "large_num(51,10,36)"
      ],
      "metadata": {
        "colab": {
          "base_uri": "https://localhost:8080/"
        },
        "id": "gIU9CV3w8eUD",
        "outputId": "c1890f54-5618-428f-efa2-c86811ad8079"
      },
      "execution_count": 9,
      "outputs": [
        {
          "output_type": "stream",
          "name": "stdout",
          "text": [
            "51 is the largest number!\n"
          ]
        }
      ]
    },
    {
      "cell_type": "markdown",
      "source": [
        "Write a Python program to find the roots of a quadratic equation ax^2 + bx + c = 0."
      ],
      "metadata": {
        "id": "TbrFkDm69qAt"
      }
    },
    {
      "cell_type": "code",
      "source": [
        "def find_roots(a,b,c):\n",
        "\n",
        "  d = b**2 - 4*a*c\n",
        "\n",
        "  if d > 0:\n",
        "    root1 = (-b + d**0.5)/2*a\n",
        "    root2 = (-b - d**0.5)/2*a\n",
        "    print(f\"Roots are real and distinct: {root1} and {root2}\")\n",
        "  elif d == 0:\n",
        "    root = -b / (2*a)\n",
        "    print(f\"Roots are real and equal: {root}\")\n",
        "  else:\n",
        "    real_part = -b / (2*a)\n",
        "    imag_part = (-d)**0.5 / (2*a)\n",
        "    print(f\"Roots are complex: {real_part} + {imag_part}i and {real_part} - {imag_part}i\")\n",
        "\n",
        "find_roots(-1,9,4)"
      ],
      "metadata": {
        "colab": {
          "base_uri": "https://localhost:8080/"
        },
        "id": "KVvev1q59pSx",
        "outputId": "6cf82075-5de3-431b-c18a-349c36ecd97c"
      },
      "execution_count": 16,
      "outputs": [
        {
          "output_type": "stream",
          "name": "stdout",
          "text": [
            "Roots are real and distinct: -0.42442890089805196 and 9.424428900898052\n"
          ]
        }
      ]
    }
  ]
}