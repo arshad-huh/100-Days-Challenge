{
  "nbformat": 4,
  "nbformat_minor": 0,
  "metadata": {
    "colab": {
      "provenance": [],
      "authorship_tag": "ABX9TyPNoV+PING0wE0i4AZgJ2L0",
      "include_colab_link": true
    },
    "kernelspec": {
      "name": "python3",
      "display_name": "Python 3"
    },
    "language_info": {
      "name": "python"
    }
  },
  "cells": [
    {
      "cell_type": "markdown",
      "metadata": {
        "id": "view-in-github",
        "colab_type": "text"
      },
      "source": [
        "<a href=\"https://colab.research.google.com/github/arshad-huh/100Days-Python-Practice/blob/main/5_while_loop.ipynb\" target=\"_parent\"><img src=\"https://colab.research.google.com/assets/colab-badge.svg\" alt=\"Open In Colab\"/></a>"
      ]
    },
    {
      "cell_type": "markdown",
      "source": [
        "Write a Python program that prints numbers from 1 to 5 using a while loop.\n",
        "\n"
      ],
      "metadata": {
        "id": "F7LaBacoV-FX"
      }
    },
    {
      "cell_type": "code",
      "execution_count": 1,
      "metadata": {
        "colab": {
          "base_uri": "https://localhost:8080/"
        },
        "id": "j8fBXVYSVoH3",
        "outputId": "8af25617-2039-4930-fc19-a6f7f3a0783a"
      },
      "outputs": [
        {
          "output_type": "stream",
          "name": "stdout",
          "text": [
            "1\n",
            "2\n",
            "3\n",
            "4\n",
            "5\n"
          ]
        }
      ],
      "source": [
        "i = 1\n",
        "while i <=5:\n",
        "  print(i)\n",
        "  i +=1"
      ]
    },
    {
      "cell_type": "markdown",
      "source": [
        "Write a program that prompts the user to enter a positive integer and then prints all the numbers from 1 up to that integer using a while loop."
      ],
      "metadata": {
        "id": "gy5pt5PiXHtx"
      }
    },
    {
      "cell_type": "code",
      "source": [
        "num = int(input(\"Enter a Positive number: \"))\n",
        "n = 1\n",
        "\n",
        "while n<= num:\n",
        "  print(n)\n",
        "  n+=1"
      ],
      "metadata": {
        "colab": {
          "base_uri": "https://localhost:8080/"
        },
        "id": "brwV9jXOXK5G",
        "outputId": "2a05428c-a234-441a-8622-aa2b141f6f3d"
      },
      "execution_count": 5,
      "outputs": [
        {
          "output_type": "stream",
          "name": "stdout",
          "text": [
            "Enter a Positive number: 5\n",
            "1\n",
            "2\n",
            "3\n",
            "4\n",
            "5\n"
          ]
        }
      ]
    },
    {
      "cell_type": "markdown",
      "source": [
        "Write a Python program to calculate the sum of all even numbers from 1 to 10 using a while loop."
      ],
      "metadata": {
        "id": "reaCIGl9Yl86"
      }
    },
    {
      "cell_type": "code",
      "source": [
        "sum = 0\n",
        "n = 1\n",
        "while n<=10:\n",
        "  if n%2==0:\n",
        "    sum+=n\n",
        "  n+=1\n",
        "\n",
        "print(sum)"
      ],
      "metadata": {
        "colab": {
          "base_uri": "https://localhost:8080/"
        },
        "id": "GdJNIwq8YtQv",
        "outputId": "ac828b2d-f830-470b-c222-067b1d60c1b6"
      },
      "execution_count": 7,
      "outputs": [
        {
          "output_type": "stream",
          "name": "stdout",
          "text": [
            "30\n"
          ]
        }
      ]
    },
    {
      "cell_type": "markdown",
      "source": [
        "Write a program that asks the user to enter a password. Keep asking until the correct password \"abc123\" is entered.\n",
        "\n"
      ],
      "metadata": {
        "id": "tuoEUJjnZjNQ"
      }
    },
    {
      "cell_type": "code",
      "source": [
        "while True:\n",
        "  password = input(\"Enter a password: \")\n",
        "  if password == \"abc123\":\n",
        "    print(\"Right password entered!\")\n",
        "    break"
      ],
      "metadata": {
        "colab": {
          "base_uri": "https://localhost:8080/"
        },
        "id": "YjxXRvcMZk2m",
        "outputId": "285da77a-5727-474d-82da-49aa98cf9a41"
      },
      "execution_count": 9,
      "outputs": [
        {
          "output_type": "stream",
          "name": "stdout",
          "text": [
            "Enter a password: zyx\n",
            "Enter a password: 12345678\n",
            "Enter a password: abc123\n",
            "Right password entered!\n"
          ]
        }
      ]
    },
    {
      "cell_type": "markdown",
      "source": [
        "Write a Python program to find the factorial of a number using a while loop.\n",
        "\n"
      ],
      "metadata": {
        "id": "wZWB2sq-akYG"
      }
    },
    {
      "cell_type": "code",
      "source": [
        "i = 1\n",
        "num = int(input(\"Enter a number: \"))\n",
        "factorial = 1\n",
        "\n",
        "while i<=num:\n",
        "  factorial*=i\n",
        "  i+=1\n",
        "\n",
        "print(factorial)"
      ],
      "metadata": {
        "colab": {
          "base_uri": "https://localhost:8080/"
        },
        "id": "7xlDCx81amtO",
        "outputId": "37bb22d5-e632-4bda-b78d-2b134c42b932"
      },
      "execution_count": 11,
      "outputs": [
        {
          "output_type": "stream",
          "name": "stdout",
          "text": [
            "Enter a number: 5\n",
            "120\n"
          ]
        }
      ]
    },
    {
      "cell_type": "markdown",
      "source": [
        "Write a program that simulates a basic ATM. The user starts with an initial balance. Allow the user to withdraw money until they choose to quit."
      ],
      "metadata": {
        "id": "LZNWsU7MbUvo"
      }
    },
    {
      "cell_type": "code",
      "source": [
        "balance = int(input(\"Enter your intial balance: \"))\n",
        "\n",
        "while True:\n",
        "\n",
        "  if balance > 0:\n",
        "    func = input('''If you want to WITHDRAW -- Enter \"w\"\n",
        "    and if you want to QUIT -- ENter \"q\"''')\n",
        "    if func == \"q\":\n",
        "      break\n",
        "    elif func == \"w\":\n",
        "      how_much = int(input(\"Enter how much do you want to withdraw?:\"))\n",
        "      if how_much <=balance:\n",
        "        print(\"Cash Withdrawn!!!!\")\n",
        "        balance -= how_much\n",
        "      else:\n",
        "        print(\"You don't have sufficient balance!\")\n",
        "  else:\n",
        "    print(\"Enter Positive amount!\")"
      ],
      "metadata": {
        "id": "6EitMJ8uemT7"
      },
      "execution_count": null,
      "outputs": []
    },
    {
      "cell_type": "markdown",
      "source": [
        "Write a program that plays a number-guessing game with the user. The program should generate a random number between 1 and 100. The user keeps guessing until they guess the correct number."
      ],
      "metadata": {
        "id": "9oiPBZ-ggPtH"
      }
    },
    {
      "cell_type": "code",
      "source": [
        "import random\n",
        "\n",
        "random = random.randint(1,10)\n",
        "\n",
        "while True:\n",
        "\n",
        "  try:\n",
        "    guess = int(input(\"Guess a number between 1 to 10: \"))\n",
        "    if guess ==random:\n",
        "      print(\"Hurrah!!! You guessed the right number.\")\n",
        "      break\n",
        "    else:\n",
        "      print(\"Oops! You guessed the wrong number, try again.\")\n",
        "\n",
        "  except ValueError as ve:\n",
        "    print(ve)"
      ],
      "metadata": {
        "colab": {
          "base_uri": "https://localhost:8080/"
        },
        "id": "Nz4upvEqgQMy",
        "outputId": "e4d7820d-477a-4773-da31-7f4f75f50fcc"
      },
      "execution_count": 12,
      "outputs": [
        {
          "output_type": "stream",
          "name": "stdout",
          "text": [
            "Guess a number between 1 to 10: 1\n",
            "Oops! You guessed the wrong number, try again.\n",
            "Guess a number between 1 to 10: 10\n",
            "Oops! You guessed the wrong number, try again.\n",
            "Guess a number between 1 to 10: 6\n",
            "Oops! You guessed the wrong number, try again.\n",
            "Guess a number between 1 to 10: 5\n",
            "Oops! You guessed the wrong number, try again.\n",
            "Guess a number between 1 to 10: 4\n",
            "Oops! You guessed the wrong number, try again.\n",
            "Guess a number between 1 to 10: 3\n",
            "Oops! You guessed the wrong number, try again.\n",
            "Guess a number between 1 to 10: 2\n",
            "Hurrah!!! You guessed the right number.\n"
          ]
        }
      ]
    }
  ]
}