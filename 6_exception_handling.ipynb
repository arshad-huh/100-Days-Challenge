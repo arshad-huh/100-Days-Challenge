{
  "nbformat": 4,
  "nbformat_minor": 0,
  "metadata": {
    "colab": {
      "provenance": [],
      "authorship_tag": "ABX9TyOQuoNg/FTv2RT4ii0tAPth",
      "include_colab_link": true
    },
    "kernelspec": {
      "name": "python3",
      "display_name": "Python 3"
    },
    "language_info": {
      "name": "python"
    }
  },
  "cells": [
    {
      "cell_type": "markdown",
      "metadata": {
        "id": "view-in-github",
        "colab_type": "text"
      },
      "source": [
        "<a href=\"https://colab.research.google.com/github/arshad-huh/100Days-Python-Practice/blob/main/6_exception_handling.ipynb\" target=\"_parent\"><img src=\"https://colab.research.google.com/assets/colab-badge.svg\" alt=\"Open In Colab\"/></a>"
      ]
    },
    {
      "cell_type": "markdown",
      "source": [
        "### Exception Handling"
      ],
      "metadata": {
        "id": "MD4_3uRfVBYl"
      }
    },
    {
      "cell_type": "markdown",
      "source": [
        "1. Write a Python function that takes two numbers as input and returns their division result. However, handle the scenario where the denominator is zero using a try-except block to print a user-friendly message like \"Error: Division by zero!\"."
      ],
      "metadata": {
        "id": "nrkJVpH4VBSr"
      }
    },
    {
      "cell_type": "code",
      "source": [
        "def div(a,b):\n",
        "\n",
        "  try:\n",
        "    c = a/b\n",
        "  except ZeroDivisionError as zd:\n",
        "    print(\"Error:\",zd)\n",
        "  else:\n",
        "    return c\n",
        "\n",
        "div(10,0)"
      ],
      "metadata": {
        "colab": {
          "base_uri": "https://localhost:8080/"
        },
        "id": "wwQ5RpxUVA6T",
        "outputId": "3bfbdbf9-6015-4a54-8239-2ce927cd972b"
      },
      "execution_count": 5,
      "outputs": [
        {
          "output_type": "stream",
          "name": "stdout",
          "text": [
            "Error: division by zero\n"
          ]
        }
      ]
    },
    {
      "cell_type": "markdown",
      "source": [
        "2. Create a custom exception called ValueTooSmallError. Write a function that takes an integer input and raises ValueTooSmallError if the input is less than 10. Use try-except to handle this exception and print an appropriate message."
      ],
      "metadata": {
        "id": "ydUdd-RUWX_n"
      }
    },
    {
      "cell_type": "code",
      "execution_count": 17,
      "metadata": {
        "colab": {
          "base_uri": "https://localhost:8080/"
        },
        "id": "h3OLAM8ITpuz",
        "outputId": "ad9d50bf-2f43-406f-ad42-9a5381390a4d"
      },
      "outputs": [
        {
          "output_type": "stream",
          "name": "stdout",
          "text": [
            "Value is too small!\n"
          ]
        }
      ],
      "source": [
        "class ValueTooSmallError(Exception):\n",
        "    pass\n",
        "\n",
        "def check_value(num):\n",
        "  try:\n",
        "\n",
        "    if num<10:\n",
        "      raise ValueTooSmallError(\"Value is too small!\")\n",
        "\n",
        "  except Exception as e:\n",
        "    print(e)\n",
        "\n",
        "check_value(5)"
      ]
    },
    {
      "cell_type": "markdown",
      "source": [
        "3. Write a function that takes a filename as an argument and tries to open the file. Handle the following exceptions separately:\n",
        "\n",
        "FileNotFoundError: Print \"File not found!\" if the file does not exist.\n",
        "\n",
        "PermissionError: Print \"Permission denied!\" if the user doesn't have permission to access the file."
      ],
      "metadata": {
        "id": "6HqYSRRCWgLs"
      }
    },
    {
      "cell_type": "code",
      "source": [
        "def read_file(filename):\n",
        "\n",
        "  try:\n",
        "    with open(filename, \"r\") as file:\n",
        "      pass\n",
        "  except FileNotFoundError:\n",
        "    print(\"File not found!\")\n",
        "  except PermissionError:\n",
        "    print(\"Permission Denied!\")\n",
        "\n",
        "read_file(\"content/sample_data\")"
      ],
      "metadata": {
        "colab": {
          "base_uri": "https://localhost:8080/"
        },
        "id": "ht-bC5GEZ7pq",
        "outputId": "647f5d74-2ff1-44c9-da33-a8ed06cd8e1c"
      },
      "execution_count": 21,
      "outputs": [
        {
          "output_type": "stream",
          "name": "stdout",
          "text": [
            "File not found!\n"
          ]
        }
      ]
    },
    {
      "cell_type": "markdown",
      "source": [
        "4. Write a function that takes a list as input and asserts that the list is not empty. Use assert to check this condition and raise an AssertionError with a custom message if the list is empty."
      ],
      "metadata": {
        "id": "FYsAjmVFWi1k"
      }
    },
    {
      "cell_type": "code",
      "source": [
        "def process_list(lst):\n",
        "    assert len(lst) > 0, \"List cannot be empty!\"\n",
        "\n",
        "process_list([])"
      ],
      "metadata": {
        "colab": {
          "base_uri": "https://localhost:8080/",
          "height": 280
        },
        "id": "Gp9hguVAbARS",
        "outputId": "82b4743b-19c0-425a-fa20-6c9459437d67"
      },
      "execution_count": 26,
      "outputs": [
        {
          "output_type": "error",
          "ename": "AssertionError",
          "evalue": "List cannot be empty!",
          "traceback": [
            "\u001b[0;31m---------------------------------------------------------------------------\u001b[0m",
            "\u001b[0;31mAssertionError\u001b[0m                            Traceback (most recent call last)",
            "\u001b[0;32m<ipython-input-26-85c3289c741c>\u001b[0m in \u001b[0;36m<cell line: 4>\u001b[0;34m()\u001b[0m\n\u001b[1;32m      2\u001b[0m     \u001b[0;32massert\u001b[0m \u001b[0mlen\u001b[0m\u001b[0;34m(\u001b[0m\u001b[0mlst\u001b[0m\u001b[0;34m)\u001b[0m \u001b[0;34m>\u001b[0m \u001b[0;36m0\u001b[0m\u001b[0;34m,\u001b[0m \u001b[0;34m\"List cannot be empty!\"\u001b[0m\u001b[0;34m\u001b[0m\u001b[0;34m\u001b[0m\u001b[0m\n\u001b[1;32m      3\u001b[0m \u001b[0;34m\u001b[0m\u001b[0m\n\u001b[0;32m----> 4\u001b[0;31m \u001b[0mprocess_list\u001b[0m\u001b[0;34m(\u001b[0m\u001b[0;34m[\u001b[0m\u001b[0;34m]\u001b[0m\u001b[0;34m)\u001b[0m\u001b[0;34m\u001b[0m\u001b[0;34m\u001b[0m\u001b[0m\n\u001b[0m",
            "\u001b[0;32m<ipython-input-26-85c3289c741c>\u001b[0m in \u001b[0;36mprocess_list\u001b[0;34m(lst)\u001b[0m\n\u001b[1;32m      1\u001b[0m \u001b[0;32mdef\u001b[0m \u001b[0mprocess_list\u001b[0m\u001b[0;34m(\u001b[0m\u001b[0mlst\u001b[0m\u001b[0;34m)\u001b[0m\u001b[0;34m:\u001b[0m\u001b[0;34m\u001b[0m\u001b[0;34m\u001b[0m\u001b[0m\n\u001b[0;32m----> 2\u001b[0;31m     \u001b[0;32massert\u001b[0m \u001b[0mlen\u001b[0m\u001b[0;34m(\u001b[0m\u001b[0mlst\u001b[0m\u001b[0;34m)\u001b[0m \u001b[0;34m>\u001b[0m \u001b[0;36m0\u001b[0m\u001b[0;34m,\u001b[0m \u001b[0;34m\"List cannot be empty!\"\u001b[0m\u001b[0;34m\u001b[0m\u001b[0;34m\u001b[0m\u001b[0m\n\u001b[0m\u001b[1;32m      3\u001b[0m \u001b[0;34m\u001b[0m\u001b[0m\n\u001b[1;32m      4\u001b[0m \u001b[0mprocess_list\u001b[0m\u001b[0;34m(\u001b[0m\u001b[0;34m[\u001b[0m\u001b[0;34m]\u001b[0m\u001b[0;34m)\u001b[0m\u001b[0;34m\u001b[0m\u001b[0;34m\u001b[0m\u001b[0m\n",
            "\u001b[0;31mAssertionError\u001b[0m: List cannot be empty!"
          ]
        }
      ]
    },
    {
      "cell_type": "markdown",
      "source": [
        "5. Create a function that simulates a bank transaction. It should take amount and balance as arguments. Use assert to ensure that the amount is positive. Use a try-except block to handle the scenario where the withdrawal amount exceeds the balance, raising a custom InsufficientFundsError."
      ],
      "metadata": {
        "id": "ae6LcFOyWioa"
      }
    },
    {
      "cell_type": "code",
      "source": [],
      "metadata": {
        "id": "zmOstFHNbny8"
      },
      "execution_count": null,
      "outputs": []
    },
    {
      "cell_type": "markdown",
      "source": [
        "6. Write a program that attempts to convert a user input string into an integer. Use nested try-except blocks to handle potential errors such as ValueError (invalid conversion) and KeyboardInterrupt (user interrupt). Print appropriate messages for each type of error."
      ],
      "metadata": {
        "id": "HExpB0LlWiSV"
      }
    },
    {
      "cell_type": "markdown",
      "source": [
        "7. Create a function that calculates the area of a rectangle given its length and width. Use assert to ensure that both length and width are positive values. If either value is non-positive, raise a custom InvalidRectangleError with specific details about which dimension is invalid."
      ],
      "metadata": {
        "id": "743o61OMWgH1"
      }
    },
    {
      "cell_type": "markdown",
      "source": [
        "8. Implement a recursive function that calculates the factorial of a given positive integer n. Use assert to check that n is a positive integer. Handle potential errors with appropriate exceptions and messages."
      ],
      "metadata": {
        "id": "LUOwvXbTWgEx"
      }
    },
    {
      "cell_type": "markdown",
      "source": [
        "9. Develop a class DataProcessor that reads data from a file and performs some processing. Handle exceptions like IOError and ValueError within the class methods and provide detailed error messages indicating the specific issue encountered during processing."
      ],
      "metadata": {
        "id": "_XtTxrJbWgBJ"
      }
    },
    {
      "cell_type": "markdown",
      "source": [
        "10. Write a program that reads data from a log file, processes each line, and writes the results to an output file. Implement error logging using the logging module to capture and record exceptions encountered during processing. Ensure the program gracefully recovers from errors and continues processing subsequent lines."
      ],
      "metadata": {
        "id": "N8QVFaq8Wf0s"
      }
    },
    {
      "cell_type": "code",
      "source": [],
      "metadata": {
        "id": "_Sbgbt0YXEcV"
      },
      "execution_count": null,
      "outputs": []
    }
  ]
}