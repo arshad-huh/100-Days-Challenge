{
  "nbformat": 4,
  "nbformat_minor": 0,
  "metadata": {
    "colab": {
      "provenance": [],
      "authorship_tag": "ABX9TyNsgeKNaTOTTcBLutNCIEiH",
      "include_colab_link": true
    },
    "kernelspec": {
      "name": "python3",
      "display_name": "Python 3"
    },
    "language_info": {
      "name": "python"
    }
  },
  "cells": [
    {
      "cell_type": "markdown",
      "metadata": {
        "id": "view-in-github",
        "colab_type": "text"
      },
      "source": [
        "<a href=\"https://colab.research.google.com/github/arshad-huh/100days_python_practice/blob/main/1_functions.ipynb\" target=\"_parent\"><img src=\"https://colab.research.google.com/assets/colab-badge.svg\" alt=\"Open In Colab\"/></a>"
      ]
    },
    {
      "cell_type": "markdown",
      "source": [
        "Write a function greet(name) that takes a name as input and prints a greeting message like \"Hello, [name]!\".\n"
      ],
      "metadata": {
        "id": "LqCsHsWFTXN4"
      }
    },
    {
      "cell_type": "code",
      "source": [
        "def greet(name):\n",
        "  print(\"Hello, \" + name + \"!\")\n",
        "\n",
        "greet(\"Arshad\")"
      ],
      "metadata": {
        "id": "tcV3nPweTcRa",
        "outputId": "f1d1bc5e-2dfc-407e-b4f9-e1e9216b3190",
        "colab": {
          "base_uri": "https://localhost:8080/"
        }
      },
      "execution_count": 3,
      "outputs": [
        {
          "output_type": "stream",
          "name": "stdout",
          "text": [
            "Hello, Arshad!\n"
          ]
        }
      ]
    },
    {
      "cell_type": "markdown",
      "source": [
        "Write a function is_even(num) that takes an integer num as input and returns True if num is even, otherwise False.\n"
      ],
      "metadata": {
        "id": "bzHMXubvZDNM"
      }
    },
    {
      "cell_type": "code",
      "source": [
        "def is_even(num):\n",
        "  if num % 2 == 0:\n",
        "    return True\n",
        "  else:\n",
        "    return False\n",
        "\n",
        "print(is_even(4))\n",
        "print(is_even(5))"
      ],
      "metadata": {
        "id": "QAOGwYJiZC1J",
        "outputId": "5f8f2f66-af8d-4811-a6ea-c4be8e0cbe8a",
        "colab": {
          "base_uri": "https://localhost:8080/"
        }
      },
      "execution_count": 4,
      "outputs": [
        {
          "output_type": "stream",
          "name": "stdout",
          "text": [
            "True\n",
            "False\n"
          ]
        }
      ]
    },
    {
      "cell_type": "markdown",
      "source": [
        "Write a function add(a, b) that takes two numbers a and b as input and returns their sum.\n"
      ],
      "metadata": {
        "id": "U9RH04aMZc6v"
      }
    },
    {
      "cell_type": "code",
      "source": [
        "def add(a,b):\n",
        "  return a + b\n",
        "\n",
        "print(add(3, 5))"
      ],
      "metadata": {
        "id": "9KsiJ6nhZZah",
        "outputId": "43db83d4-6b8d-4b65-a428-51dd0aa53ba0",
        "colab": {
          "base_uri": "https://localhost:8080/"
        }
      },
      "execution_count": 5,
      "outputs": [
        {
          "output_type": "stream",
          "name": "stdout",
          "text": [
            "8\n"
          ]
        }
      ]
    },
    {
      "cell_type": "markdown",
      "source": [
        "Write a function max_of_three(a, b, c) that takes three numbers as input and returns the maximum of the three.\n"
      ],
      "metadata": {
        "id": "GI8PxN_iZzcs"
      }
    },
    {
      "cell_type": "code",
      "source": [
        "def max_of_3(a, b, c):\n",
        "  if a >= b and a >= c:\n",
        "    return a\n",
        "  elif b >= a and b >= c:\n",
        "    return b\n",
        "  else:\n",
        "    return c\n",
        "\n",
        "print(max_of_3(2, 3, 1))"
      ],
      "metadata": {
        "id": "_fxBmhNrZ223",
        "outputId": "66f4894f-b4df-4068-9218-ce5ddb2160a2",
        "colab": {
          "base_uri": "https://localhost:8080/"
        }
      },
      "execution_count": 7,
      "outputs": [
        {
          "output_type": "stream",
          "name": "stdout",
          "text": [
            "3\n"
          ]
        }
      ]
    },
    {
      "cell_type": "markdown",
      "source": [
        "Write a function reverse_list(lst) that takes a list lst as input and returns the reversed list.\n"
      ],
      "metadata": {
        "id": "7VlSS4mYaS_v"
      }
    },
    {
      "cell_type": "code",
      "source": [
        "def reverse_list(lst):\n",
        "  return lst[::-1]\n",
        "\n",
        "print(reverse_list([2,3,4,5,6,7,8,9,0]))"
      ],
      "metadata": {
        "id": "Gi5aLTGdaWBe",
        "outputId": "73636c3d-27cb-4323-c636-4c8289eacaaf",
        "colab": {
          "base_uri": "https://localhost:8080/"
        }
      },
      "execution_count": 8,
      "outputs": [
        {
          "output_type": "stream",
          "name": "stdout",
          "text": [
            "[0, 9, 8, 7, 6, 5, 4, 3, 2]\n"
          ]
        }
      ]
    },
    {
      "cell_type": "markdown",
      "source": [
        "Write a function count_words(sentence) that takes a string sentence as input and returns the count of words in the sentence.\n"
      ],
      "metadata": {
        "id": "FXRVQ7-Cbxqd"
      }
    },
    {
      "cell_type": "code",
      "source": [
        "def count_words(sentence):\n",
        "  words = sentence.split(\" \")\n",
        "  return len(words)\n",
        "\n",
        "print(count_words(\"My name is Arshad Ahmad.\"))"
      ],
      "metadata": {
        "id": "5-eiw9q-b9ib",
        "outputId": "722aa1d4-ec7d-445c-8f14-154d8274f126",
        "colab": {
          "base_uri": "https://localhost:8080/"
        }
      },
      "execution_count": 9,
      "outputs": [
        {
          "output_type": "stream",
          "name": "stdout",
          "text": [
            "5\n"
          ]
        }
      ]
    },
    {
      "cell_type": "markdown",
      "source": [
        "Write a recursive function fibonacci(n) that returns the nth Fibonacci number.\n",
        "Hint: The Fibonacci sequence starts with 0 and 1, where each subsequent number is the sum of the previous two (e.g., 0, 1, 1, 2, 3, 5, ...)."
      ],
      "metadata": {
        "id": "XS17cb55cZpE"
      }
    },
    {
      "cell_type": "code",
      "source": [
        "def fibonacci(n):\n",
        "  if n == 0:\n",
        "    return 1\n",
        "  elif n == 1:\n",
        "    return 1\n",
        "  else:\n",
        "    return fibonacci(n-1) + fibonacci(n-2)\n",
        "\n",
        "print(fibonacci(5))"
      ],
      "metadata": {
        "id": "Ec7j3_-tcfk7",
        "outputId": "5b3bb834-e872-4ce8-ac5c-3f2796c24631",
        "colab": {
          "base_uri": "https://localhost:8080/"
        }
      },
      "execution_count": 12,
      "outputs": [
        {
          "output_type": "stream",
          "name": "stdout",
          "text": [
            "8\n"
          ]
        }
      ]
    },
    {
      "cell_type": "markdown",
      "source": [
        "Write a function is_prime(num) that takes an integer num as input and returns True if num is a prime number, otherwise False.\n",
        "Hint: A prime number is a natural number greater than 1 that has no positive divisors other than 1 and itself."
      ],
      "metadata": {
        "id": "9532N9DVgSu3"
      }
    },
    {
      "cell_type": "code",
      "source": [
        "def is_prime(num):\n",
        "    if num <= 1:\n",
        "        return False\n",
        "\n",
        "\n",
        "    for i in range(2, num):\n",
        "        if num % i == 0:\n",
        "            return False\n",
        "\n",
        "    return True\n",
        "\n",
        "\n",
        "result = is_prime(23)\n",
        "print(\"Is 5 prime?\", result)"
      ],
      "metadata": {
        "id": "W2FivzY6jgi9",
        "outputId": "16521546-2f89-4398-e7e0-fc87ba3bd3e4",
        "colab": {
          "base_uri": "https://localhost:8080/"
        }
      },
      "execution_count": 31,
      "outputs": [
        {
          "output_type": "stream",
          "name": "stdout",
          "text": [
            "Is 5 prime? True\n"
          ]
        }
      ]
    },
    {
      "cell_type": "code",
      "source": [
        "#  However, note that for larger numbers, this approach can be optimized further\n",
        "# (e.g., by only iterating up to the square root of num)\n",
        "\n",
        "def is_prime(num):\n",
        "    if num <= 1:\n",
        "        return False\n",
        "\n",
        "\n",
        "    for i in range(2, int(num**0.5)+1):\n",
        "        if num % i == 0:\n",
        "            return False\n",
        "\n",
        "    return True\n",
        "\n",
        "\n",
        "result = is_prime(23)\n",
        "print(\"Is 5 prime?\", result)"
      ],
      "metadata": {
        "id": "SjSIGhkvlNZf",
        "outputId": "5517cebd-394b-4fd5-c6c8-69d62140232d",
        "colab": {
          "base_uri": "https://localhost:8080/"
        }
      },
      "execution_count": 32,
      "outputs": [
        {
          "output_type": "stream",
          "name": "stdout",
          "text": [
            "Is 5 prime? True\n"
          ]
        }
      ]
    },
    {
      "cell_type": "markdown",
      "source": [
        "Write a function flatten_list(nested_list) that takes a nested list nested_list as input and returns a flattened list (i.e., a list containing all elements from nested lists in a single level)."
      ],
      "metadata": {
        "id": "5SMs6nehmH1D"
      }
    },
    {
      "cell_type": "code",
      "source": [
        "def flatten_list(nested_list):\n",
        "\n",
        "  f_list = []\n",
        "\n",
        "  for x in nested_list:\n",
        "\n",
        "    if isinstance(x, list):\n",
        "      f_list.extend(x)\n",
        "\n",
        "    else:\n",
        "      f_list.append(x)\n",
        "\n",
        "  return f_list\n",
        "\n",
        "lst = [[1,2,3],[4,5,6], 23, 54, [23,45], 0]\n",
        "print(flatten_list(lst))"
      ],
      "metadata": {
        "id": "KoGWbikimbxC",
        "outputId": "2678d687-15b6-4b34-b4eb-a0e77c4f7d33",
        "colab": {
          "base_uri": "https://localhost:8080/"
        }
      },
      "execution_count": 36,
      "outputs": [
        {
          "output_type": "stream",
          "name": "stdout",
          "text": [
            "[1, 2, 3, 4, 5, 6, 23, 54, 23, 45, 0]\n"
          ]
        }
      ]
    },
    {
      "cell_type": "markdown",
      "source": [
        "Write a function find_duplicates(lst) that takes a list lst as input and returns a list of unique elements that have duplicates in the original list."
      ],
      "metadata": {
        "id": "J9jzBSzGnzcF"
      }
    },
    {
      "cell_type": "code",
      "source": [
        "def find_duplicates(lst):\n",
        "\n",
        "  dup = []\n",
        "  once = []\n",
        "\n",
        "  for x in lst:\n",
        "\n",
        "    if x in once:\n",
        "      dup.append(x)\n",
        "    else:\n",
        "      once.append(x)\n",
        "\n",
        "  return dup\n",
        "\n",
        "listx = [1,2,3,3,4]\n",
        "print(find_duplicates(listx))"
      ],
      "metadata": {
        "id": "euLyE31Nn1Ij",
        "outputId": "e96c0308-2c91-4927-d72a-09d3baa63633",
        "colab": {
          "base_uri": "https://localhost:8080/"
        }
      },
      "execution_count": 38,
      "outputs": [
        {
          "output_type": "stream",
          "name": "stdout",
          "text": [
            "[3]\n"
          ]
        }
      ]
    },
    {
      "cell_type": "markdown",
      "source": [
        "Write a function count_occurrences(lst) that takes a list lst as input and returns a dictionary where keys are elements from the list and values are their corresponding counts (number of occurrences) in the list.\n",
        "\n"
      ],
      "metadata": {
        "id": "3I1W361otKjz"
      }
    },
    {
      "cell_type": "code",
      "source": [
        "def count_occurances(lst):\n",
        "  counts = {}\n",
        "  for item in lst:\n",
        "    if item in counts:\n",
        "      counts[item] += 1\n",
        "    else:\n",
        "      counts[item] = 1\n",
        "  return counts\n",
        "\n",
        "listx = [1,1,1,2,3,3]\n",
        "print(count_occurances(listx))"
      ],
      "metadata": {
        "id": "GSaxoaMltJ5A",
        "outputId": "2a304838-15d4-40f1-b328-f83571149305",
        "colab": {
          "base_uri": "https://localhost:8080/"
        }
      },
      "execution_count": 39,
      "outputs": [
        {
          "output_type": "stream",
          "name": "stdout",
          "text": [
            "{1: 3, 2: 1, 3: 2}\n"
          ]
        }
      ]
    }
  ]
}