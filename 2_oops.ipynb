{
  "nbformat": 4,
  "nbformat_minor": 0,
  "metadata": {
    "colab": {
      "provenance": [],
      "authorship_tag": "ABX9TyPcXn5KQFwUcV5LZnC7lG3m",
      "include_colab_link": true
    },
    "kernelspec": {
      "name": "python3",
      "display_name": "Python 3"
    },
    "language_info": {
      "name": "python"
    }
  },
  "cells": [
    {
      "cell_type": "markdown",
      "metadata": {
        "id": "view-in-github",
        "colab_type": "text"
      },
      "source": [
        "<a href=\"https://colab.research.google.com/github/arshad-huh/100days-python-practice/blob/main/2_oops.ipynb\" target=\"_parent\"><img src=\"https://colab.research.google.com/assets/colab-badge.svg\" alt=\"Open In Colab\"/></a>"
      ]
    },
    {
      "cell_type": "markdown",
      "source": [
        "### OOPs Concepts"
      ],
      "metadata": {
        "id": "LY9fU3bJ_fTz"
      }
    },
    {
      "cell_type": "markdown",
      "source": [
        "Write a Python class Person with attributes name and age. Include a method introduce() that prints the name and age of the person."
      ],
      "metadata": {
        "id": "sMnOP4mI_oMH"
      }
    },
    {
      "cell_type": "code",
      "source": [
        "class Person:\n",
        "\n",
        "  def __init__(self,name,age):\n",
        "    self.name = name\n",
        "    self.age = age\n",
        "\n",
        "  def introduce(self):\n",
        "    print(f\"My name is {self.name} and I am {self.age} years old.\")\n"
      ],
      "metadata": {
        "id": "DApQNmtE_eiy"
      },
      "execution_count": 6,
      "outputs": []
    },
    {
      "cell_type": "markdown",
      "source": [
        "Create an instance person1 of the Person class with name \"Alice\" and age 30. Call the introduce() method of person1 to display the details.\n"
      ],
      "metadata": {
        "id": "hvRI3pMTA6Zt"
      }
    },
    {
      "cell_type": "code",
      "execution_count": 7,
      "metadata": {
        "colab": {
          "base_uri": "https://localhost:8080/"
        },
        "id": "0ghpSzWO_Y1e",
        "outputId": "f7cea811-d70d-4255-bb1d-aababda8d6c2"
      },
      "outputs": [
        {
          "output_type": "stream",
          "name": "stdout",
          "text": [
            "My name is Arshad and I am 19 years old.\n"
          ]
        }
      ],
      "source": [
        "person1 = Person(\"Arshad\",19)\n",
        "person1.introduce()"
      ]
    },
    {
      "cell_type": "markdown",
      "source": [
        "Modify the Person class to include a class variable count that keeps track of the number of Person instances created. Update the class methods to increment count when a new instance is created."
      ],
      "metadata": {
        "id": "MEj2bz7kBKWM"
      }
    },
    {
      "cell_type": "code",
      "source": [
        "class Person:\n",
        "\n",
        "  count = 0\n",
        "\n",
        "  def __init__(self,name,age):\n",
        "    self.name = name\n",
        "    self.age = age\n",
        "    Person.count += 1\n",
        "\n",
        "  def introduce(self):\n",
        "    print(f\"My name is {self.name} and I am {self.age} years old.\")\n"
      ],
      "metadata": {
        "id": "hTsLYgY_BXi3"
      },
      "execution_count": 10,
      "outputs": []
    },
    {
      "cell_type": "markdown",
      "source": [
        "Add a class method get_count() to the Person class that returns the current count of Person instances."
      ],
      "metadata": {
        "id": "qvJ4Pr7sCYvh"
      }
    },
    {
      "cell_type": "code",
      "source": [
        "class Person:\n",
        "\n",
        "  count = 0\n",
        "\n",
        "  def __init__(self,name,age):\n",
        "    self.name = name\n",
        "    self.age = age\n",
        "    Person.count += 1\n",
        "\n",
        "  def introduce(self):\n",
        "    print(f\"My name is {self.name} and I am {self.age} years old.\")\n",
        "\n",
        "  @classmethod\n",
        "  def get_count(cls):\n",
        "    return cls.count"
      ],
      "metadata": {
        "id": "OGbgMaqdB0Re"
      },
      "execution_count": 11,
      "outputs": []
    },
    {
      "cell_type": "markdown",
      "source": [
        "Define a subclass Employee that inherits from the Person class. Add an attribute employee_id specific to employees."
      ],
      "metadata": {
        "id": "wM82htmSCrnN"
      }
    },
    {
      "cell_type": "code",
      "source": [
        "class Employee(Person):\n",
        "\n",
        "  def __init__(self,name,age,employee_id):\n",
        "    super().__init__(name,age)\n",
        "    self.id = employee_id"
      ],
      "metadata": {
        "id": "q1Y5c9kXClAc"
      },
      "execution_count": 13,
      "outputs": []
    },
    {
      "cell_type": "markdown",
      "source": [
        "Override the introduce() method in the Employee class to display the employee's name, age, and ID when called."
      ],
      "metadata": {
        "id": "HGvoBykXDpcm"
      }
    },
    {
      "cell_type": "code",
      "source": [
        "class Employee(Person):\n",
        "\n",
        "  def __init__(self,name,age,employee_id):\n",
        "    super().__init__(name,age)\n",
        "    self.id = employee_id\n",
        "\n",
        "  def introduce(self):\n",
        "    print(f\"My name is {self.name}, I am {self.age} years old and my Employee ID is {self.id}.\")"
      ],
      "metadata": {
        "id": "uxbeVgwqD9Vn"
      },
      "execution_count": 15,
      "outputs": []
    },
    {
      "cell_type": "code",
      "source": [
        "employee1 = Employee(\"Arshad\", 19, \"001\")\n",
        "employee1.introduce()"
      ],
      "metadata": {
        "colab": {
          "base_uri": "https://localhost:8080/"
        },
        "id": "zTipEEjzEDWl",
        "outputId": "b65371f6-7973-4808-a528-8fd11de4f0bf"
      },
      "execution_count": 17,
      "outputs": [
        {
          "output_type": "stream",
          "name": "stdout",
          "text": [
            "My name is Arshad, I am 19 years old and my Employee ID is 001.\n"
          ]
        }
      ]
    },
    {
      "cell_type": "markdown",
      "source": [
        "Implement encapsulation for the Person class by making the age attribute private. Provide methods get_age() and set_age() to access and modify the age attribute safely."
      ],
      "metadata": {
        "id": "DOMzV8voEYR7"
      }
    },
    {
      "cell_type": "code",
      "source": [
        "class Person:\n",
        "\n",
        "  def __init__(self,name,age):\n",
        "    self.name = name\n",
        "    self.__age = age\n",
        "\n",
        "  def introduce(self):\n",
        "    print(f\"My name is {self.name} and I am {self.age} years old.\")\n",
        "\n",
        "  def get_age(self):\n",
        "    return self.__age\n",
        "\n",
        "  def set_age(self, new_age):\n",
        "    self.__age = new_age\n"
      ],
      "metadata": {
        "id": "McaXr4RMEX60"
      },
      "execution_count": null,
      "outputs": []
    },
    {
      "cell_type": "markdown",
      "source": [
        "Define a new class Shape with an abstract method calculate_area(). Create subclasses Rectangle and Circle that implement calculate_area() to compute the area of the respective shapes."
      ],
      "metadata": {
        "id": "DuVgWYfIFg1a"
      }
    },
    {
      "cell_type": "code",
      "source": [],
      "metadata": {
        "id": "MZxPYlkzFlxt"
      },
      "execution_count": null,
      "outputs": []
    }
  ]
}