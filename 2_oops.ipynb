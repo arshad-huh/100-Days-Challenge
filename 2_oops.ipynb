{
  "nbformat": 4,
  "nbformat_minor": 0,
  "metadata": {
    "colab": {
      "provenance": [],
      "authorship_tag": "ABX9TyNIOX8mSRlrACCz7vxxwVZ8",
      "include_colab_link": true
    },
    "kernelspec": {
      "name": "python3",
      "display_name": "Python 3"
    },
    "language_info": {
      "name": "python"
    }
  },
  "cells": [
    {
      "cell_type": "markdown",
      "metadata": {
        "id": "view-in-github",
        "colab_type": "text"
      },
      "source": [
        "<a href=\"https://colab.research.google.com/github/arshad-huh/100days-python-practice/blob/main/2_oops.ipynb\" target=\"_parent\"><img src=\"https://colab.research.google.com/assets/colab-badge.svg\" alt=\"Open In Colab\"/></a>"
      ]
    },
    {
      "cell_type": "markdown",
      "source": [
        "### OOPs Concepts"
      ],
      "metadata": {
        "id": "LY9fU3bJ_fTz"
      }
    },
    {
      "cell_type": "markdown",
      "source": [
        "Write a Python class Person with attributes name and age. Include a method introduce() that prints the name and age of the person."
      ],
      "metadata": {
        "id": "sMnOP4mI_oMH"
      }
    },
    {
      "cell_type": "code",
      "source": [
        "class Person:\n",
        "\n",
        "  def __init__(self,name,age):\n",
        "    self.name = name\n",
        "    self.age = age\n",
        "\n",
        "  def introduce(self):\n",
        "    print(f\"My name is {self.name} and I am {self.age} years old.\")\n"
      ],
      "metadata": {
        "id": "DApQNmtE_eiy"
      },
      "execution_count": 1,
      "outputs": []
    },
    {
      "cell_type": "markdown",
      "source": [
        "Create an instance person1 of the Person class with name \"Alice\" and age 30. Call the introduce() method of person1 to display the details.\n"
      ],
      "metadata": {
        "id": "hvRI3pMTA6Zt"
      }
    },
    {
      "cell_type": "code",
      "execution_count": 2,
      "metadata": {
        "colab": {
          "base_uri": "https://localhost:8080/"
        },
        "id": "0ghpSzWO_Y1e",
        "outputId": "b2ac4a73-693f-4970-9e3c-fa3c69c556c9"
      },
      "outputs": [
        {
          "output_type": "stream",
          "name": "stdout",
          "text": [
            "My name is Arshad and I am 19 years old.\n"
          ]
        }
      ],
      "source": [
        "person1 = Person(\"Arshad\",19)\n",
        "person1.introduce()"
      ]
    },
    {
      "cell_type": "markdown",
      "source": [
        "Modify the Person class to include a class variable count that keeps track of the number of Person instances created. Update the class methods to increment count when a new instance is created."
      ],
      "metadata": {
        "id": "MEj2bz7kBKWM"
      }
    },
    {
      "cell_type": "code",
      "source": [
        "class Person:\n",
        "\n",
        "  count = 0\n",
        "\n",
        "  def __init__(self,name,age):\n",
        "    self.name = name\n",
        "    self.age = age\n",
        "    Person.count += 1\n",
        "\n",
        "  def introduce(self):\n",
        "    print(f\"My name is {self.name} and I am {self.age} years old.\")\n"
      ],
      "metadata": {
        "id": "hTsLYgY_BXi3"
      },
      "execution_count": 3,
      "outputs": []
    },
    {
      "cell_type": "markdown",
      "source": [
        "Add a class method get_count() to the Person class that returns the current count of Person instances."
      ],
      "metadata": {
        "id": "qvJ4Pr7sCYvh"
      }
    },
    {
      "cell_type": "code",
      "source": [
        "class Person:\n",
        "\n",
        "  count = 0\n",
        "\n",
        "  def __init__(self,name,age):\n",
        "    self.name = name\n",
        "    self.age = age\n",
        "    Person.count += 1\n",
        "\n",
        "  def introduce(self):\n",
        "    print(f\"My name is {self.name} and I am {self.age} years old.\")\n",
        "\n",
        "  @classmethod\n",
        "  def get_count(cls):\n",
        "    return cls.count"
      ],
      "metadata": {
        "id": "OGbgMaqdB0Re"
      },
      "execution_count": 4,
      "outputs": []
    },
    {
      "cell_type": "markdown",
      "source": [
        "Define a subclass Employee that inherits from the Person class. Add an attribute employee_id specific to employees."
      ],
      "metadata": {
        "id": "wM82htmSCrnN"
      }
    },
    {
      "cell_type": "code",
      "source": [
        "class Employee(Person):\n",
        "\n",
        "  def __init__(self,name,age,employee_id):\n",
        "    super().__init__(name,age)\n",
        "    self.id = employee_id"
      ],
      "metadata": {
        "id": "q1Y5c9kXClAc"
      },
      "execution_count": 5,
      "outputs": []
    },
    {
      "cell_type": "markdown",
      "source": [
        "Override the introduce() method in the Employee class to display the employee's name, age, and ID when called."
      ],
      "metadata": {
        "id": "HGvoBykXDpcm"
      }
    },
    {
      "cell_type": "code",
      "source": [
        "class Employee(Person):\n",
        "\n",
        "  def __init__(self,name,age,employee_id):\n",
        "    super().__init__(name,age)\n",
        "    self.id = employee_id\n",
        "\n",
        "  def introduce(self):\n",
        "    print(f\"My name is {self.name}, I am {self.age} years old and my Employee ID is {self.id}.\")"
      ],
      "metadata": {
        "id": "uxbeVgwqD9Vn"
      },
      "execution_count": 6,
      "outputs": []
    },
    {
      "cell_type": "code",
      "source": [
        "employee1 = Employee(\"Arshad\", 19, \"001\")\n",
        "employee1.introduce()"
      ],
      "metadata": {
        "colab": {
          "base_uri": "https://localhost:8080/"
        },
        "id": "zTipEEjzEDWl",
        "outputId": "65e9f836-c33a-4e13-a1d9-6f872fc23740"
      },
      "execution_count": 7,
      "outputs": [
        {
          "output_type": "stream",
          "name": "stdout",
          "text": [
            "My name is Arshad, I am 19 years old and my Employee ID is 001.\n"
          ]
        }
      ]
    },
    {
      "cell_type": "markdown",
      "source": [
        "Implement encapsulation for the Person class by making the age attribute private. Provide methods get_age() and set_age() to access and modify the age attribute safely."
      ],
      "metadata": {
        "id": "DOMzV8voEYR7"
      }
    },
    {
      "cell_type": "code",
      "source": [
        "class Person:\n",
        "\n",
        "  def __init__(self,name,age):\n",
        "    self.name = name\n",
        "    self.__age = age\n",
        "\n",
        "  def introduce(self):\n",
        "    print(f\"My name is {self.name} and I am {self.age} years old.\")\n",
        "\n",
        "  def get_age(self):\n",
        "    return self.__age\n",
        "\n",
        "  def set_age(self, new_age):\n",
        "    self.__age = new_age\n"
      ],
      "metadata": {
        "id": "McaXr4RMEX60"
      },
      "execution_count": 8,
      "outputs": []
    },
    {
      "cell_type": "markdown",
      "source": [
        "Define a new class Shape with an abstract method calculate_area(). Create subclasses Rectangle and Circle that implement calculate_area() to compute the area of the respective shapes."
      ],
      "metadata": {
        "id": "DuVgWYfIFg1a"
      }
    },
    {
      "cell_type": "code",
      "source": [
        "from abc import ABC, abstractmethod\n",
        "\n",
        "class Shape(ABC):\n",
        "\n",
        "  @abstractmethod\n",
        "  def calculate_area(self):\n",
        "    pass\n",
        "\n",
        "class Rectangle(Shape):\n",
        "  def __init__(self,length,breadth):\n",
        "    self.l = length\n",
        "    self.b = breadth\n",
        "\n",
        "  def calculate_area(self):\n",
        "    return self.l * self.b\n",
        "\n",
        "\n",
        "class Circle(Shape):\n",
        "  def __init__(self,radius):\n",
        "    self.r = radius\n",
        "\n",
        "  def calculate_area(self):\n",
        "    return 3.14*self.r*self.r\n",
        "\n",
        "\n",
        "circle1 = Circle(7.3)\n",
        "rect1 = Rectangle(25,10.5)\n",
        "\n",
        "print(circle1.calculate_area())\n",
        "print(rect1.calculate_area())"
      ],
      "metadata": {
        "id": "MZxPYlkzFlxt",
        "outputId": "a2a471fc-c134-403a-b6d5-83b163456e45",
        "colab": {
          "base_uri": "https://localhost:8080/"
        }
      },
      "execution_count": 13,
      "outputs": [
        {
          "output_type": "stream",
          "name": "stdout",
          "text": [
            "167.3306\n",
            "262.5\n"
          ]
        }
      ]
    },
    {
      "cell_type": "markdown",
      "source": [
        "Use the abc module to create an abstract base class Animal with an abstract method make_sound(). Define concrete subclasses (Dog, Cat) that inherit from Animal and implement make_sound()."
      ],
      "metadata": {
        "id": "BojswQ7aPRe-"
      }
    },
    {
      "cell_type": "code",
      "source": [
        "from abc import ABC, abstractmethod\n",
        "\n",
        "class Animal(ABC):\n",
        "  @abstractmethod\n",
        "  def make_sound(self):\n",
        "    pass\n",
        "\n",
        "class Dog(Animal):\n",
        "  def make_sound(self):\n",
        "    print(\"bark!\")\n",
        "\n",
        "class Cat(Animal):\n",
        "  def make_sound(self):\n",
        "    print(\"meow!\")\n",
        "\n",
        "cat1 = Cat()\n",
        "dog1 = Dog()\n",
        "\n",
        "cat1.make_sound()\n",
        "dog1.make_sound()"
      ],
      "metadata": {
        "id": "-xMwPxJeOFI7",
        "outputId": "531669e0-4839-41b2-d071-664b601eb7ce",
        "colab": {
          "base_uri": "https://localhost:8080/"
        }
      },
      "execution_count": 18,
      "outputs": [
        {
          "output_type": "stream",
          "name": "stdout",
          "text": [
            "meow!\n",
            "bark!\n"
          ]
        }
      ]
    },
    {
      "cell_type": "markdown",
      "source": [
        "Implement special methods (__str__, __eq__) for the Person class to customize string representation and equality comparison of instances."
      ],
      "metadata": {
        "id": "L2DcvlLJPdyi"
      }
    },
    {
      "cell_type": "code",
      "source": [
        "class Person:\n",
        "\n",
        "  def __init__(self,name,age):\n",
        "    self.name = name\n",
        "    self.__age = age\n",
        "\n",
        "  def __str__(self):\n",
        "    return f\"My name is {self.name} and I am {self.age} years old.\"\n",
        "\n",
        "  def __eq__(self, other):\n",
        "    return self.name == other.name and self.age == other.age"
      ],
      "metadata": {
        "id": "HiGT1zf-PhT_"
      },
      "execution_count": 19,
      "outputs": []
    }
  ]
}